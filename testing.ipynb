{
 "cells": [
  {
   "cell_type": "code",
   "execution_count": null,
   "metadata": {},
   "outputs": [],
   "source": [
    "from langchain.agents import ZeroShotAgent, Tool, AgentExecutor, create_sql_agent, get_all_tool_names\n",
    "from langchain.chains import SQLDatabaseChain\n",
    "from langchain import OpenAI, SerpAPIWrapper, LLMChain, GoogleSearchAPIWrapper\n",
    "from langchain.agents.agent_toolkits import SQLDatabaseToolkit\n",
    "from langchain.sql_database import SQLDatabase"
   ]
  },
  {
   "cell_type": "code",
   "execution_count": null,
   "metadata": {},
   "outputs": [],
   "source": [
    "# llm = OpenAI(\n",
    "#     temperature=0,\n",
    "    \n",
    "# )\n",
    "\n",
    "# tools = load_tools([\"google-search\", \"llm-math\"], llm=llm)\n",
    "\n",
    "# agent = initialize_agent(tools, llm, agent=\"zero-shot-react-description\", verbose=True)\n"
   ]
  },
  {
   "cell_type": "code",
   "execution_count": null,
   "metadata": {},
   "outputs": [],
   "source": [
    "get_all_tool_names()"
   ]
  },
  {
   "cell_type": "code",
   "execution_count": null,
   "metadata": {},
   "outputs": [],
   "source": [
    "google_search = GoogleSearchAPIWrapper(k=10, search_engine=\"google\")"
   ]
  },
  {
   "cell_type": "code",
   "execution_count": null,
   "metadata": {},
   "outputs": [],
   "source": [
    "google_search = GoogleSearchAPIWrapper(k=10, search_engine=\"google\")\n",
    "sql_dk_co2_db = SQLDatabase.from_uri(\"sqlite:///data/dk_co2_emission.db\")\n",
    "# toolkit = SQLDatabaseToolkit(db=sql_dk_co2_db)\n",
    "\n",
    "llm=OpenAI(temperature=0)\n",
    "db_chain = SQLDatabaseChain(llm=llm, database=sql_dk_co2_db, verbose=True)\n",
    "\n",
    "db_chain.run(\n",
    "    \"\"\"\n",
    "    What is the total emission of a red lentils in kg CO2e per kg?\n",
    "    Use the following query format: SELECT \"Total-kg-CO2-eq-kg\" FROM dk_co2_emission WHERE \"Name\" LIKE \"{item}\"\n",
    "    \"\"\",\n",
    ")"
   ]
  },
  {
   "cell_type": "code",
   "execution_count": null,
   "metadata": {},
   "outputs": [],
   "source": [
    "from langchain.agents import ZeroShotAgent, Tool, AgentExecutor\n",
    "from langchain import OpenAI, SerpAPIWrapper, LLMChain\n",
    "from langchain.utilities import PythonREPL"
   ]
  },
  {
   "cell_type": "code",
   "execution_count": null,
   "metadata": {},
   "outputs": [],
   "source": [
    "sql_dk_co2_db = SQLDatabase.from_uri(\"sqlite:///data/dk_co2_emission.db\")\n",
    "sqlite_search = SQLDatabaseChain(llm=llm, database=sql_dk_co2_db, verbose=True)\n",
    "google_search = GoogleSearchAPIWrapper(k=10, search_engine=\"google\")\n",
    "python_repl = PythonREPL()\n",
    "\n",
    "\n",
    "tools = [\n",
    "    Tool(\n",
    "        name=\"CO2 emission database search\",\n",
    "        func=sqlite_search.run,\n",
    "        description=f\"Searches the CO2 emission database from an ingredient. The database is based on the Danish food database. Use the following query format: SELECT 'Total-kg-CO2-eq-kg' FROM dk_co2_emission WHERE 'Name' LIKE 'ingredient'\",\n",
    "    ),\n",
    "    Tool(\n",
    "        name=\"Google search\",\n",
    "        func=google_search.run,\n",
    "        description=\"\"\"Useful for finding out the CO2 emission of items or getting the weights from \n",
    "                       food ingredients such as one tablespoon is equal to 21 grams\"\"\",\n",
    "    ),\n",
    "    Tool(\n",
    "        name=\"Python\",\n",
    "        func=python_repl.run,\n",
    "        description=\"\"\"Useful for when calculating the total CO2 emission of all the ingredients in a recipe and calculating the weights of each item.\"\"\"\n",
    "    )\n",
    "]"
   ]
  },
  {
   "cell_type": "code",
   "execution_count": null,
   "metadata": {},
   "outputs": [],
   "source": [
    "prefix = \"\"\"Act as a CO2 emission calculator that understands danish and english. Given a list of ingredients to a recipe, find the total CO2 emission of the recipe in kg CO2e per kg. \n",
    "Extract the ingredients one by one and find the CO2 emission of each ingredient in kg. Then sum up the total CO2 emission of the recipe in kg CO2e per kg. \n",
    "\n",
    "First search the items in the ingredients list in the database and then use Google to find the weights of the ingredients given the units in the recipe. \n",
    "If the items are danish, then translate them to english and search the database and google using the english name.\n",
    "\n",
    "Example:\n",
    "We are given two items in the ingredients list: \"150 røde linser, 2 gulerødder\".\n",
    "\n",
    "To search we translate the danish items to english and use the following query: SELECT \"Total-kg-CO2-eq-kg\" FROM dk_co2_emission WHERE \"Name\" LIKE '%red lentils%' AND Name LIKE '%carrot%'\n",
    "We get 1.78 kg CO2e per kg for red lentils and 0.255 kg CO2e per kg for carrots. Next we use Google to find the weights of the carrot. \n",
    "1 carrots approximately weighs 0,060 kg or 60 grams according to a google search and 2 carrots weighs 0.120 kg.\n",
    "\n",
    "Therefore, the total emission is 0.150 kg * 1.78 kg CO2e per kg + 0.120 kg * 0.255 kg CO2e per kg = 0.360 kg CO2e per kg.\n",
    "\n",
    "This is the total CO2 emission of the recipe in kg CO2e per kg. This example only has two items in the ingredients list, but you should be able to handle any number of items in the ingredients list.\n",
    "You should search for multiple items in the database and google using the same query.\n",
    " \n",
    "You have access to the following tools:\"\"\"\n",
    "\n",
    "suffix = \"\"\"First search the items in the CO2 database and then use Google Search to find the weights of the ingredients given the units in the recipe. \n",
    "\n",
    "If you cannot find the item in the database then use Google Search to find the CO2 emission of the item.\n",
    "Remember to use the units in the recipe to find the weights of the ingredients. \n",
    "\n",
    "Provide the answer in kg CO2e per kg and to calculate the total CO2 emission of all the ingredients in the recipe.\n",
    "Remember to search the database using the command: SELECT \"Total-kg-CO2-eq-kg\" FROM dk_co2_emission WHERE \"Name\" LIKE \"ingredient\"\n",
    "and translate from danish to english if the item is danish.\n",
    "\n",
    "Begin! Calculate kg CO2e per kg for all items in the recipe and sum them: {input}\n",
    "\n",
    "Question: {input}\n",
    "{agent_scratchpad}\"\"\"\n",
    "\n",
    "prompt = ZeroShotAgent.create_prompt(\n",
    "    tools, \n",
    "    prefix=prefix, \n",
    "    suffix=suffix, \n",
    "    input_variables=[\"input\", \"agent_scratchpad\"]\n",
    ")"
   ]
  },
  {
   "cell_type": "code",
   "execution_count": null,
   "metadata": {},
   "outputs": [],
   "source": [
    "llm_chain = LLMChain(llm=OpenAI(temperature=0), prompt=prompt)"
   ]
  },
  {
   "cell_type": "code",
   "execution_count": null,
   "metadata": {},
   "outputs": [],
   "source": [
    "tool_names = [tool.name for tool in tools]\n",
    "agent = ZeroShotAgent(llm_chain=llm_chain, allowed_tools=tool_names)\n",
    "\n",
    "agent_executor = AgentExecutor.from_agent_and_tools(agent=agent, tools=tools, verbose=True)"
   ]
  },
  {
   "cell_type": "code",
   "execution_count": null,
   "metadata": {},
   "outputs": [],
   "source": [
    "agent_executor.run(\n",
    "    \"\"\"150 g røde linser\n",
    "    1 stort løg, 1 peberfrugt\n",
    "    2 terninger grøntsagsbouillon\n",
    "    3 fed hvidløg, pressede\n",
    "    1 dåse hakkede tomater, \n",
    "    1 dåse tomatkoncentrat (140 g), \n",
    "    1 dåse kokosmælk (400 ml), \n",
    "    1 spsk. citronsaft, \n",
    "    1 tsk. sukker, \n",
    "    ½ tsk. chilipulver, \n",
    "    ½ tsk. stødt spidskommen, \n",
    "    Evt. 1/4 tsk. røget paprika, \n",
    "    En stor håndfuld frisk basilikum, hakket\n",
    "    (eller 2 tsk. tørret basilikum)\"\"\"\n",
    ")"
   ]
  },
  {
   "cell_type": "code",
   "execution_count": null,
   "metadata": {},
   "outputs": [],
   "source": []
  }
 ],
 "metadata": {
  "kernelspec": {
   "display_name": "venv",
   "language": "python",
   "name": "python3"
  },
  "language_info": {
   "codemirror_mode": {
    "name": "ipython",
    "version": 3
   },
   "file_extension": ".py",
   "mimetype": "text/x-python",
   "name": "python",
   "nbconvert_exporter": "python",
   "pygments_lexer": "ipython3",
   "version": "3.10.6"
  },
  "orig_nbformat": 4
 },
 "nbformat": 4,
 "nbformat_minor": 2
}
