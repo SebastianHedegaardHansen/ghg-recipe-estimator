{
 "cells": [
  {
   "cell_type": "code",
   "execution_count": 1,
   "metadata": {},
   "outputs": [],
   "source": [
    "from agent.search_agent import get_co2_google_search_agent"
   ]
  },
  {
   "cell_type": "code",
   "execution_count": 2,
   "metadata": {},
   "outputs": [],
   "source": [
    "agent = get_co2_google_search_agent(verbose=True)"
   ]
  },
  {
   "cell_type": "code",
   "execution_count": 8,
   "metadata": {},
   "outputs": [
    {
     "name": "stdout",
     "output_type": "stream",
     "text": [
      "\n",
      "\n",
      "\u001b[1m> Entering new AgentExecutor chain...\u001b[0m\n",
      "\u001b[32;1m\u001b[1;3mThought: I need to search for the kg CO2e per kg of asparagus\n",
      "Action: Search tool\n",
      "Action Input: 'asparagus kg CO2e per kg'\u001b[0m\n",
      "Observation: \u001b[36;1m\u001b[1;3mAsparagus has a carbon footprint of 0.41 kg (0.9 lbs) of CO2e per pound of produce. This is slightly above-average compared to other vegetables, though still ... Product: Asparagus Category: Vegetables You can consume 2.0 kg of Asparagus to exhaust your daily CO2e food budget Emissions per kg: 1.347 kg CO2e Number of ... Asparagus, green, raw. Vegetables. Climate footprint - kg CO2e. CO2e per kg. 0,88. Agriculture. 0,27. ILUC. 0,10. Processing. 0,00. Transport. 0,43. Green asparagus cultivated in Switzerland or Spain and supplied from April to June have an average GWP of about 2 kg CO2-eq per kg. Only about 0.5% of the total ... Asparagus, fresh, 0.88 kg CO2e to produce 1 kilogram or 2.2 pounds of asparagus. In other words, a car driving equivalent of 2.25 miles or 3.5 ... It takes around 0.88 kg CO2e to produce 1 kilogram or 2.2 pounds of asparagus, a car driving equivalent of 2.25 miles or 3.5 kilometers. Food ... ... gas (GHG) emissions from production using a unit that's a little tricky to parse: kilograms of CO2-equivalent per kilogram of food. Asparagus from Chile has a carbon footprint of 0.31 kg CO₂e/kg at farm. Check how it compares to other ingredients or markets in ClimateHub. Missing: CO2e per. KG CO2e.. Amount. Details. Times per year. Once Daily Weekly. Assumptions. Based on exemplary scientific research, might vary depending on scenario. For instance, 1kg of Eggplant is only 240 calories; 1kg of pork is 2600 calories. So, that translates 1.3 kg CO2 for 1kg of eggplant and 6.8kg ...\u001b[0m\n",
      "Thought:\u001b[32;1m\u001b[1;3mThe most likely result is 0.88 kg CO2e per kg of asparagus based on the multiple search results. \n",
      "Final Answer: asparagus: 0.88 kg CO2e per kg (based on multiple search results)\u001b[0m\n",
      "\n",
      "\u001b[1m> Finished chain.\u001b[0m\n"
     ]
    },
    {
     "data": {
      "text/plain": [
       "'asparagus: 0.88 kg CO2e per kg (based on multiple search results)'"
      ]
     },
     "execution_count": 8,
     "metadata": {},
     "output_type": "execute_result"
    }
   ],
   "source": [
    "await agent.arun(\"asparagus\")"
   ]
  },
  {
   "cell_type": "code",
   "execution_count": null,
   "metadata": {},
   "outputs": [],
   "source": []
  }
 ],
 "metadata": {
  "kernelspec": {
   "display_name": "venv",
   "language": "python",
   "name": "python3"
  },
  "language_info": {
   "codemirror_mode": {
    "name": "ipython",
    "version": 3
   },
   "file_extension": ".py",
   "mimetype": "text/x-python",
   "name": "python",
   "nbconvert_exporter": "python",
   "pygments_lexer": "ipython3",
   "version": "3.10.6"
  },
  "orig_nbformat": 4
 },
 "nbformat": 4,
 "nbformat_minor": 2
}
