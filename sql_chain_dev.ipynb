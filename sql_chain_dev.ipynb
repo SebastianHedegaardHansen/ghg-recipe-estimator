{
 "cells": [
  {
   "cell_type": "code",
   "execution_count": null,
   "metadata": {},
   "outputs": [],
   "source": [
    "from langchain.agents import ZeroShotAgent, Tool, AgentExecutor, create_sql_agent, get_all_tool_names\n",
    "from langchain.chains import SQLDatabaseChain\n",
    "from langchain import OpenAI, SerpAPIWrapper, LLMChain, GoogleSearchAPIWrapper\n",
    "from langchain.chat_models import ChatOpenAI\n",
    "from langchain.agents.agent_toolkits import SQLDatabaseToolkit\n",
    "from langchain.sql_database import SQLDatabase"
   ]
  },
  {
   "cell_type": "code",
   "execution_count": null,
   "metadata": {},
   "outputs": [],
   "source": [
    "from langchain.prompts.prompt import PromptTemplate\n",
    "\n",
    "sql_dk_co2_db = SQLDatabase.from_uri(\"sqlite:///data/dk_co2_emission.db\",sample_rows_in_table_info=2)\n",
    "\n",
    "_DEFAULT_TEMPLATE = \"\"\"Given a list of ingredients, extract the main ingredients from the list and create a syntactically correct {dialect} query to run, then look at the results of the query and return the answer.\n",
    "\n",
    "Solve the task using the following steps:\n",
    "- Query all ingredients in a single query. Example query: 'SELECT Name, Total_kg_CO2_eq_kg FROM dk_co2_emission WHERE Name LIKE '%tomato%' OR NAME LIKE '%bouillion%' \n",
    "- In the query, remove all non-ingredient words. Example of removing: '%chopped tomatoes%' to '%tomato%' or 'WHERE LIKE %minced beef%' to '%beef%'\n",
    "- Match the SQLResult to the list of ingredients based on preparation and type. Example match: '1 can of chopped tomatoes' best matches results from 'Tomato, peeled, canned'. \n",
    "- Return the Answer in the following format: ''ingredient': X kg CO2e / kg'. Example Answer: 'Chopped tomatoes: X kg CO2e/ kg \\n' . \n",
    "- If the ingredient is not found in the database, return '?'. Example Answer: 'Chopped tomatoes: ? \\n'\n",
    "\n",
    "Use the following format:\n",
    "Ingredients: \"Ingredients here\"\n",
    "SQLQuery: \"SQL Query to run\"\n",
    "SQLResult: \"Result of the SQLQuery\"\n",
    "Answer: \"Final answer here\"\n",
    "\n",
    "Only use the following tables:\n",
    "{table_info}\n",
    "\n",
    "Ingredients: {input}\"\"\"\n",
    "PROMPT = PromptTemplate(\n",
    "    input_variables=[\"input\", \"table_info\", \"dialect\"], template=_DEFAULT_TEMPLATE\n",
    ")"
   ]
  },
  {
   "cell_type": "code",
   "execution_count": null,
   "metadata": {},
   "outputs": [],
   "source": [
    "llm = ChatOpenAI(\n",
    "    temperature=0,\n",
    ")\n",
    "db_chain = SQLDatabaseChain(llm=llm, database=sql_dk_co2_db, verbose=True, prompt=PROMPT, top_k=50)"
   ]
  },
  {
   "cell_type": "code",
   "execution_count": null,
   "metadata": {},
   "outputs": [],
   "source": [
    "prompt1 = \"\"\"150 g red lentils\n",
    "             1 can of chopped tomatoes,\n",
    "             1 large onion, \n",
    "             1 pepper\n",
    "             2 cubes of vegetable bouillon\n",
    "             3 cloves garlic, pressed\n",
    "             1 tin of tomato concentrate (140 g),\n",
    "             1 can of coconut milk (400 ml),\n",
    "             1 tbsp. lemon juice,\n",
    "             1 tsp. sugar,\n",
    "             ½ teaspoon chili powder,\n",
    "             ½ teaspoon ground cumin,\n",
    "             Possibly. 1/4 tsp. smoked paprika,\n",
    "             A large handful of fresh basil, chopped\n",
    "             (or 2 tsp dried basil)\n",
    "             \"\"\"\n",
    "\n",
    "prompt2 = \"\"\"3 tbsp olive oil\n",
    "            0.50 red chilli, remove seeds and membrane and cut into thin slices\n",
    "            400 g of pasta\n",
    "            2 cloves of garlic, finely chopped\n",
    "            1 tin of peeled tomatoes\n",
    "            1 teaspoon balsamic vinegar\n",
    "            1 teaspoon of sugar\n",
    "            1 organic lemon, finely grated peel from here\n",
    "            2 handfuls of fresh basil\n",
    "            salt\n",
    "            black pepper, freshly ground\n",
    "             \"\"\""
   ]
  },
  {
   "cell_type": "code",
   "execution_count": null,
   "metadata": {},
   "outputs": [],
   "source": [
    "from langchain.callbacks import get_openai_callback\n",
    "\n",
    "with get_openai_callback() as cb:\n",
    "\n",
    "    answer1 = db_chain.run(prompt2)\n",
    "    \n",
    "    print(\"Total Tokens:\", cb.total_tokens)\n",
    "    print(\"Total prompt tokens:\", cb.prompt_tokens)"
   ]
  },
  {
   "cell_type": "code",
   "execution_count": null,
   "metadata": {},
   "outputs": [],
   "source": [
    "print(answer1)"
   ]
  },
  {
   "attachments": {},
   "cell_type": "markdown",
   "metadata": {},
   "source": [
    "## Create weight estimator llm"
   ]
  },
  {
   "cell_type": "code",
   "execution_count": null,
   "metadata": {},
   "outputs": [],
   "source": [
    "TEMPLATE = \"\"\"\n",
    "Given a list of ingredients, estimate the weights in kilogram for each ingredient.\n",
    "\n",
    "The following recalculations can be used to estimate the weight of each ingredient:\n",
    "1 can = 400 g\n",
    "1 cube of bouillon/stock = 4 g\n",
    "1 large onion = 285 g\n",
    "1 medium onion = 170 g\n",
    "1 small onion = 115 g\n",
    "1 pepper = 150 g\n",
    "1 tin of tomato concentrate = 140 g\n",
    "1 tbsp. = 15 g\n",
    "1 tsp. = 5 g\n",
    "1 potato = 170 - 300 g\n",
    "1 carrot = 100 g\n",
    "\n",
    "If the ingredient is not listed, then give the best estimate you can.\n",
    "\n",
    "Provide the final answer in the following format:\n",
    "Ingredient 1: X kg\n",
    "Ingredient 2: Y kg\n",
    "etc.\n",
    "\n",
    "Use the following format:\n",
    "Ingredients: \"Ingredients here\"\n",
    "Answer: \"Final answer here\"\n",
    "\n",
    "Ingredients: {input}\n",
    "\"\"\"\n",
    "\n",
    "llm = ChatOpenAI(\n",
    "    temperature=0\n",
    ")\n",
    "\n",
    "prompt = PromptTemplate(\n",
    "    input_variables=[\"input\"],\n",
    "    template=TEMPLATE,\n",
    ")\n",
    "\n",
    "weight_chain = LLMChain(llm=llm, prompt=prompt, verbose=True)\n",
    "\n"
   ]
  },
  {
   "cell_type": "code",
   "execution_count": null,
   "metadata": {},
   "outputs": [],
   "source": [
    "with get_openai_callback() as cb:\n",
    "\n",
    "    answer2 = weight_chain.run(prompt2)\n",
    "    print(\"Total Tokens:\", cb.total_tokens)\n",
    "    print(\"Total prompt tokens:\", cb.prompt_tokens)"
   ]
  },
  {
   "cell_type": "code",
   "execution_count": null,
   "metadata": {},
   "outputs": [],
   "source": [
    "print(answer2)"
   ]
  },
  {
   "attachments": {},
   "cell_type": "markdown",
   "metadata": {},
   "source": [
    "## Calculate total CO2 emission"
   ]
  },
  {
   "cell_type": "code",
   "execution_count": null,
   "metadata": {},
   "outputs": [],
   "source": [
    "from langchain import LLMMathChain\n",
    "from langchain.prompts.prompt import PromptTemplate\n",
    "\n",
    "_PROMPT_TEMPLATE = \"\"\"You are GPT-3, and you can't do math.\n",
    "\n",
    "You can do basic math, and your memorization abilities are impressive, but you can't do any complex calculations that a human could not do in their head. You also have an annoying tendency to just make up highly specific, but wrong, answers.\n",
    "\n",
    "So we hooked you up to a Python 3 kernel, and now you can execute code. If you execute code, you must print out the final answer using the print function. You MUST use the python package numpy to answer your question. You must import numpy as np.\n",
    "\n",
    "You are provide two lists of ingredients where one list provides the CO2 emission per kilogram of the ingredient, and the other list provides the amount of the ingredient in kilogram. You must calculate the total CO2 emission of the recipe.\n",
    "The lists are separated by a \"---\".\n",
    "\n",
    "Some ingredients are not found in the database and are shown with: ?. Transform the ? to np.nan when calculating total CO2 emission.\n",
    "Ingredients not included in the calculation should be listed after the answer.\n",
    "\n",
    "Question: ${{List of ingredients}}\n",
    "```python\n",
    "${{Code that prints what you need to know}}\n",
    "print(${{code}})\n",
    "```\n",
    "```output\n",
    "${{Output of your code}}\n",
    "```\n",
    "Answer: ${{Answer}} kg CO2e for the recipe \\n ${{Ingredients not included in the calculation}}\n",
    "\n",
    "Begin.\n",
    "\n",
    "Question: \n",
    "Red lentils: 1.78 kg CO2e/kg\n",
    "Chopped tomatoes: 1.26 kg CO2e/kg \n",
    "Chili powder: ?\n",
    "---\n",
    "Red lentils 0.3 kg\n",
    "Chopped tomatoes 0.2 kg\n",
    "Chili powder: 0.001 kg\n",
    "\n",
    "```python\n",
    "import numpy as np\n",
    "print(np.nansum(np.array([1.78, 1.26,np.nan]) * np.array([0.3, 0.2, 0.001]))\n",
    "```\n",
    "```output\n",
    "0.786\n",
    "```\n",
    "Answer: 0.786 kg CO2e for the recipe \\n Chili powder is not included in the calculation.\n",
    "\n",
    "Question: {question}\"\"\"\n",
    "\n",
    "PROMPT = PromptTemplate(input_variables=[\"question\"], template=_PROMPT_TEMPLATE)\n",
    "\n",
    "llm = LLMMathChain(llm=ChatOpenAI(temperature=0), prompt=PROMPT, verbose=True)"
   ]
  },
  {
   "cell_type": "code",
   "execution_count": null,
   "metadata": {},
   "outputs": [],
   "source": [
    "with get_openai_callback() as cb:\n",
    "    answer3 = llm.run(f\"{answer1}\\n --- \\n{answer2}\")\n",
    "    \n",
    "    print(\"Total Tokens:\", cb.total_tokens)\n",
    "    print(\"Total prompt tokens:\", cb.prompt_tokens)\n",
    "    "
   ]
  },
  {
   "cell_type": "code",
   "execution_count": null,
   "metadata": {},
   "outputs": [],
   "source": [
    "print(answer3) "
   ]
  },
  {
   "cell_type": "code",
   "execution_count": null,
   "metadata": {},
   "outputs": [],
   "source": [
    "import numpy as np\n",
    "\n",
    "print(\n",
    "    np.nansum(\n",
    "        np.array([1.78, 1.26, 0.9, 1.02, 0.38, 1.33, 3.5, np.nan, 2.0, np.nan, np.nan, np.nan, 0.3])\n",
    "        * np.array([0.15, 0.4, 0.285, 0.15, 0.008, 0.015, 0.4, np.nan, 0.001, 0.001, 0.001, 0.00025, 0.05])\n",
    "    )\n",
    ")"
   ]
  },
  {
   "cell_type": "code",
   "execution_count": null,
   "metadata": {},
   "outputs": [],
   "source": [
    "np.sum([0.1,0.1,np.nan])"
   ]
  },
  {
   "cell_type": "markdown",
   "metadata": {},
   "source": []
  }
 ],
 "metadata": {
  "kernelspec": {
   "display_name": "venv",
   "language": "python",
   "name": "python3"
  },
  "language_info": {
   "codemirror_mode": {
    "name": "ipython",
    "version": 3
   },
   "file_extension": ".py",
   "mimetype": "text/x-python",
   "name": "python",
   "nbconvert_exporter": "python",
   "pygments_lexer": "ipython3",
   "version": "3.10.6"
  },
  "orig_nbformat": 4
 },
 "nbformat": 4,
 "nbformat_minor": 2
}
