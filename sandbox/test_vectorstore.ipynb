{
 "cells": [
  {
   "cell_type": "code",
   "execution_count": null,
   "metadata": {},
   "outputs": [],
   "source": [
    "import os\n",
    "import pandas as pd\n",
    "from dotenv import load_dotenv\n",
    "\n",
    "if os.getcwd().split(\"/\")[-1] == \"sandbox\":\n",
    "    os.chdir(\"../\")\n",
    "    \n",
    "load_dotenv()"
   ]
  },
  {
   "cell_type": "code",
   "execution_count": 3,
   "metadata": {},
   "outputs": [],
   "source": [
    "from food_co2_estimator.chains.recipe_extractor import get_recipe_extractor_chain\n",
    "from food_co2_estimator.utils.url import get_url_text\n",
    "recipe_extractor = get_recipe_extractor_chain(verbose=False)"
   ]
  },
  {
   "cell_type": "code",
   "execution_count": 4,
   "metadata": {},
   "outputs": [],
   "source": [
    "from food_co2_estimator.utils.url import get_url_text\n",
    "\n",
    "from food_co2_estimator.output_parsers.recipe_extractor import Recipe\n",
    "\n",
    "\n",
    "url = \"https://www.valdemarsro.dk/frikadeller/\"\n",
    "text = get_url_text(url)\n",
    "recipe_extractor = get_recipe_extractor_chain(verbose=False)\n",
    "recipe: Recipe = recipe_extractor.invoke(input=text)"
   ]
  },
  {
   "cell_type": "code",
   "execution_count": 5,
   "metadata": {},
   "outputs": [],
   "source": [
    "from food_co2_estimator.chains.rag_so2_estimator import rag_co2_emission_chain\n",
    "from food_co2_estimator.chains.translator import get_translation_chain"
   ]
  },
  {
   "cell_type": "code",
   "execution_count": 8,
   "metadata": {},
   "outputs": [],
   "source": [
    "emission_chain = rag_co2_emission_chain()\n",
    "translation_chain = get_translation_chain()\n",
    "\n",
    "emission_chain_with_translation = translation_chain | emission_chain\n",
    "\n",
    "emissions = emission_chain_with_translation.invoke(\n",
    "    input={\"inputs\": recipe.ingredients, \"language\": \"da\"}\n",
    ")"
   ]
  },
  {
   "cell_type": "markdown",
   "metadata": {},
   "source": [
    "async test"
   ]
  },
  {
   "cell_type": "code",
   "execution_count": 12,
   "metadata": {},
   "outputs": [],
   "source": [
    "\n",
    "recipe_extractor_chain = get_url_text | recipe_extractor\n",
    "full_chain = recipe_extractor | emission_chain_with_translation\n",
    "\n",
    "\n",
    "recipe = await recipe_extractor_chain.ainvoke(url)\n",
    "emissions = await emission_chain_with_translation.ainvoke(\n",
    "    input={\"inputs\": recipe.ingredients, \"language\": \"da\"}\n",
    ")"
   ]
  },
  {
   "cell_type": "code",
   "execution_count": null,
   "metadata": {},
   "outputs": [],
   "source": [
    "emissions"
   ]
  },
  {
   "cell_type": "code",
   "execution_count": null,
   "metadata": {},
   "outputs": [],
   "source": []
  }
 ],
 "metadata": {
  "kernelspec": {
   "display_name": ".venv",
   "language": "python",
   "name": "python3"
  },
  "language_info": {
   "codemirror_mode": {
    "name": "ipython",
    "version": 3
   },
   "file_extension": ".py",
   "mimetype": "text/x-python",
   "name": "python",
   "nbconvert_exporter": "python",
   "pygments_lexer": "ipython3",
   "version": "3.11.4"
  }
 },
 "nbformat": 4,
 "nbformat_minor": 2
}
