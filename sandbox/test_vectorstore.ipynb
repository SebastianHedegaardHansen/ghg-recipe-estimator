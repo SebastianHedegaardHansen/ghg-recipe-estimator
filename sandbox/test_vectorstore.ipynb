{
 "cells": [
  {
   "cell_type": "code",
   "execution_count": 1,
   "metadata": {},
   "outputs": [
    {
     "data": {
      "text/plain": [
       "True"
      ]
     },
     "execution_count": 1,
     "metadata": {},
     "output_type": "execute_result"
    }
   ],
   "source": [
    "import os\n",
    "import pandas as pd\n",
    "from dotenv import load_dotenv\n",
    "\n",
    "if os.getcwd().split(\"/\")[-1] == \"sandbox\":\n",
    "    os.chdir(\"../\")\n",
    "    \n",
    "load_dotenv()"
   ]
  },
  {
   "cell_type": "code",
   "execution_count": 2,
   "metadata": {},
   "outputs": [],
   "source": [
    "from food_co2_estimator.chains.recipe_extractor import get_recipe_extractor_chain\n",
    "from food_co2_estimator.utils.url import get_url_text\n",
    "recipe_extractor = get_recipe_extractor_chain(verbose=False)"
   ]
  },
  {
   "cell_type": "code",
   "execution_count": 3,
   "metadata": {},
   "outputs": [],
   "source": [
    "from food_co2_estimator.utils.url import get_url_text\n",
    "\n",
    "from food_co2_estimator.output_parsers.recipe_extractor import Recipe\n",
    "\n",
    "\n",
    "url = \"https://www.valdemarsro.dk/frikadeller/\"\n",
    "text = get_url_text(url)\n",
    "recipe_extractor = get_recipe_extractor_chain(verbose=False)\n",
    "recipe: Recipe = recipe_extractor.invoke(input=text)"
   ]
  },
  {
   "cell_type": "code",
   "execution_count": 4,
   "metadata": {},
   "outputs": [],
   "source": [
    "from food_co2_estimator.chains.rag_co2_estimator import rag_co2_emission_chain\n",
    "from food_co2_estimator.chains.translator import get_translation_chain"
   ]
  },
  {
   "cell_type": "code",
   "execution_count": 5,
   "metadata": {},
   "outputs": [],
   "source": [
    "emission_chain = rag_co2_emission_chain(verbose=True)\n",
    "translation_chain = get_translation_chain()\n",
    "\n",
    "emission_chain_with_translation = translation_chain | emission_chain\n",
    "\n",
    "emissions = emission_chain_with_translation.invoke(\n",
    "    input={\"inputs\": recipe.ingredients, \"language\": \"da\"}\n",
    ")"
   ]
  },
  {
   "cell_type": "code",
   "execution_count": 6,
   "metadata": {},
   "outputs": [
    {
     "data": {
      "text/plain": [
       "CO2Emissions(emissions=[CO2perKg(ingredient='500 g minced pork', comment=\"Best match is 'Pork, mince, 15-20% fat, raw' as it is the most relevant option for minced pork.\", unit='kg CO2e / kg', co2_per_kg=3.7), CO2perKg(ingredient='2 tbsp wheat flour', comment=\"Best match is 'Wheat, flour, wholemeal' as it is the least processed and most relevant option for wheat flour.\", unit='kg CO2e / kg', co2_per_kg=1.2), CO2perKg(ingredient='2 tbsp finely rolled oatmeal', comment=\"Best match is 'Oats, rolled, not enriched' as it is the least processed option for oatmeal.\", unit='kg CO2e / kg', co2_per_kg=1.9), CO2perKg(ingredient='1 dl milk', comment=\"Best match is 'Milk, whole, 3.5 % fat' as it is the least processed option for milk.\", unit='kg CO2e / kg', co2_per_kg=0.5), CO2perKg(ingredient='1 egg white', comment=\"Best match is 'Eggs, chicken, free-range hens (indoor), raw' as it is the most relevant option for egg white.\", unit='kg CO2e / kg', co2_per_kg=1.0), CO2perKg(ingredient='1 egg', comment=\"Best match is 'Average chicken' as it is the most relevant option for a whole egg.\", unit='kg CO2e / kg', co2_per_kg=3.3), CO2perKg(ingredient='1 onion, finely chopped', comment=\"Best match is 'Onion, raw' as it is the least processed option for onion.\", unit='kg CO2e / kg', co2_per_kg=0.3), CO2perKg(ingredient='1 clove garlic, finely chopped', comment=\"Best match is 'Garlic, raw' as it is the least processed option for garlic.\", unit='kg CO2e / kg', co2_per_kg=1.2), CO2perKg(ingredient='1 tsp dried thyme', comment=\"Best match is 'Basil, dried' as it is the closest match for dried herbs.\", unit='kg CO2e / kg', co2_per_kg=2.8), CO2perKg(ingredient='0.5 tsp ground cumin', comment=\"Best match is 'Curry powder' as it has the highest emission factor among the options.\", unit='kg CO2e / kg', co2_per_kg=6.1), CO2perKg(ingredient='2 tsp salt', comment=\"Best match is 'Salt, table' as it is the least processed option for salt.\", unit='kg CO2e / kg', co2_per_kg=0.4), CO2perKg(ingredient='pepper, freshly ground', comment=\"Best match is 'Pepper, black' as it is the most relevant option for freshly ground pepper.\", unit='kg CO2e / kg', co2_per_kg=5.2), CO2perKg(ingredient='3 tbsp olive oil, for frying', comment=\"Best match is 'Olive oil' as it is the least processed option for olive oil.\", unit='kg CO2e / kg', co2_per_kg=5.9), CO2perKg(ingredient='1 tbsp butter, for frying', comment=\"Best match is 'Butter, salt added' as it is the most relevant option for butter.\", unit='kg CO2e / kg', co2_per_kg=3.3)])"
      ]
     },
     "execution_count": 6,
     "metadata": {},
     "output_type": "execute_result"
    }
   ],
   "source": [
    "emissions"
   ]
  },
  {
   "cell_type": "code",
   "execution_count": 7,
   "metadata": {},
   "outputs": [
    {
     "data": {
      "text/plain": [
       "CO2Emissions(emissions=[CO2perKg(ingredient='2 eggs', comment=\"Best match is 'Eggs, chicken, free-range hens (indoor), raw'\", unit='kg CO2e / kg', co2_per_kg=1.0)])"
      ]
     },
     "execution_count": 7,
     "metadata": {},
     "output_type": "execute_result"
    }
   ],
   "source": [
    "emission_chain.invoke([\"2 eggs\"])"
   ]
  },
  {
   "cell_type": "code",
   "execution_count": 22,
   "metadata": {},
   "outputs": [
    {
     "data": {
      "text/plain": [
       "{'Noodles, eggs': '1.7 kg CO2e / kg',\n",
       " 'Eggs, chicken, free-range hens (indoor), raw': '1.0 kg CO2e / kg',\n",
       " 'Egg salad': '1.5 kg CO2e / kg',\n",
       " 'Average chicken': '3.3 kg CO2e / kg'}"
      ]
     },
     "execution_count": 22,
     "metadata": {},
     "output_type": "execute_result"
    }
   ],
   "source": [
    "from food_co2_estimator.retrievers.emission_retriever import get_emission_retriever_chain\n",
    "\n",
    "retriever = get_emission_retriever_chain(k=10)\n",
    "retriever.invoke(\"2 eggs\")"
   ]
  },
  {
   "cell_type": "code",
   "execution_count": 16,
   "metadata": {},
   "outputs": [],
   "source": [
    "from food_co2_estimator.data.vector_store import get_vector_store\n",
    "\n",
    "\n",
    "vector_store = get_vector_store()"
   ]
  },
  {
   "cell_type": "code",
   "execution_count": null,
   "metadata": {},
   "outputs": [
    {
     "data": {
      "text/plain": [
       "[Document(metadata={'DSK Kategori': 'Tilberedte/konserverede fødevarer', 'Detail': 0.0002392037588851976, 'Emballage': 0.2419647285623749, 'Energi (KJ/100 g)': 982.0, 'Fedt (g/100 g)': 22.0, 'Forarbejdning': 0.5753931404648314, 'ID_Ra': 'Ra00390', 'ID_food': 'Fa0191', 'ID_pack': 'Pa017', 'ID_retail': 'Ma0333', 'ILUC': 0.04472225069718327, 'Kategori': 'Smagsgivere og krydderier', 'Kulhydrat (g/100 g)': 3.7, 'Landbrug': 0.5147958677654496, 'Navn': 'Æggesalat', 'Produkt': 'Æggesalat', 'Protein (g/100 g)': 6.3, 'Total kg CO2e/kg': 1.50049349492172, 'Transport': 0.1233783036729955}, page_content='Egg salad'),\n",
       " Document(metadata={'Detail': 0.0002392037588851976, 'Emballage': 0.1403382123911285, 'Energi (KJ/100 g)': 840.0, 'Fedt (g/100 g)': 8.0, 'Forarbejdning': -0.01058759017248478, 'ID_Ra': 'Ra00502', 'ID_food': 'Fa0049', 'ID_pack': 'Pa059', 'ID_retail': 'Ma0333', 'ILUC': 0.1771101164398493, 'Kategori': 'Kød og fjerkræ', 'Kulhydrat (g/100 g)': 0, 'Landbrug': 2.712257838464505, 'Produkt': 'Kyllingekød, gennemsnitligt', 'Protein (g/100 g)': 27, 'Total kg CO2e/kg': 3.273596398429222, 'Transport': 0.254238617547339}, page_content='Average chicken'),\n",
       " Document(metadata={'Energi (KJ/100 g)': 1970.0, 'Fedt (g/100 g)': 26.0, 'ID_Ra': 'Ra00509', 'ID_food': 'Fa0462', 'ID_pack': 'Pa066', 'ID_retail': 'Ma0332', 'Kategori': 'Færdigretter', 'Kulhydrat (g/100 g)': 50, 'Produkt': ' Turrón med æggeblomme', 'Protein (g/100 g)': 9}, page_content='Turron, egg yolk'),\n",
       " Document(metadata={'DSK Kategori': 'Grøntsager', 'Detail': 0.00626463674608679, 'Emballage': 0.1403382123911285, 'Energi (KJ/100 g)': 83.0, 'Fedt (g/100 g)': 0.1, 'Forarbejdning': 3.33066907387547e-16, 'ID_Ra': 'Ra00004', 'ID_food': 'Cm056', 'ID_pack': 'Pa059', 'ID_retail': 'Ma0332', 'ILUC': 0.02734970942794567, 'Kategori': 'Grøntsager og grøntsagsprodukter', 'Kulhydrat (g/100 g)': 3.1, 'Landbrug': 0.5130635537770718, 'Navn': 'Aubergine, rå', 'Produkt': 'Aubergine', 'Protein (g/100 g)': 0.9, 'Total kg CO2e/kg': 0.9856924280596531, 'Transport': 0.29867631571742}, page_content='Aubergine, raw')]"
      ]
     },
     "execution_count": 18,
     "metadata": {},
     "output_type": "execute_result"
    }
   ],
   "source": [
    "mmr_retriever = vector_store.as_retriever(search_type=)\n",
    "mmr_retriever.invoke(\"1 egg\")"
   ]
  },
  {
   "cell_type": "code",
   "execution_count": null,
   "metadata": {},
   "outputs": [],
   "source": []
  }
 ],
 "metadata": {
  "kernelspec": {
   "display_name": ".venv",
   "language": "python",
   "name": "python3"
  },
  "language_info": {
   "codemirror_mode": {
    "name": "ipython",
    "version": 3
   },
   "file_extension": ".py",
   "mimetype": "text/x-python",
   "name": "python",
   "nbconvert_exporter": "python",
   "pygments_lexer": "ipython3",
   "version": "3.11.4"
  }
 },
 "nbformat": 4,
 "nbformat_minor": 2
}
