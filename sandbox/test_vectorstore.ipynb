{
 "cells": [
  {
   "cell_type": "code",
   "execution_count": 6,
   "metadata": {},
   "outputs": [
    {
     "data": {
      "text/plain": [
       "True"
      ]
     },
     "execution_count": 6,
     "metadata": {},
     "output_type": "execute_result"
    }
   ],
   "source": [
    "import os\n",
    "import pandas as pd\n",
    "from dotenv import load_dotenv\n",
    "\n",
    "if os.getcwd().split(\"/\")[-1] == \"sandbox\":\n",
    "    os.chdir(\"../\")\n",
    "    \n",
    "load_dotenv()"
   ]
  },
  {
   "cell_type": "code",
   "execution_count": 7,
   "metadata": {},
   "outputs": [],
   "source": [
    "from food_co2_estimator.chains.recipe_extractor import get_recipe_extractor_chain\n",
    "from food_co2_estimator.utils.url import get_url_text\n",
    "recipe_extractor = get_recipe_extractor_chain(verbose=False)"
   ]
  },
  {
   "cell_type": "code",
   "execution_count": 8,
   "metadata": {},
   "outputs": [],
   "source": [
    "from food_co2_estimator.utils.url import get_url_text\n",
    "\n",
    "from food_co2_estimator.output_parsers.recipe_extractor import Recipe\n",
    "\n",
    "\n",
    "url = \"https://www.valdemarsro.dk/frikadeller/\"\n",
    "text = get_url_text(url)\n",
    "recipe_extractor = get_recipe_extractor_chain(verbose=False)\n",
    "recipe: Recipe = recipe_extractor.invoke(input=text)"
   ]
  },
  {
   "cell_type": "code",
   "execution_count": 9,
   "metadata": {},
   "outputs": [],
   "source": [
    "from food_co2_estimator.chains.rag_co2_estimator import rag_co2_emission_chain\n",
    "from food_co2_estimator.chains.translator import get_translation_chain"
   ]
  },
  {
   "cell_type": "code",
   "execution_count": 10,
   "metadata": {},
   "outputs": [],
   "source": [
    "emission_chain = rag_co2_emission_chain(verbose=True)\n",
    "translation_chain = get_translation_chain()\n",
    "\n",
    "emission_chain_with_translation = translation_chain | emission_chain\n",
    "\n",
    "emissions = emission_chain_with_translation.invoke(\n",
    "    input={\"inputs\": recipe.ingredients, \"language\": \"da\"}\n",
    ")"
   ]
  },
  {
   "cell_type": "code",
   "execution_count": 11,
   "metadata": {},
   "outputs": [
    {
     "data": {
      "text/plain": [
       "CO2Emissions(emissions=[CO2perKg(ingredient='500 g minced pork', comment=\"Best match is 'Pork, minced, 15-20% fat' with emissions of 3.7 kg CO2e / kg.\", unit='kg CO2e / kg', co2_per_kg=3.7), CO2perKg(ingredient='2 tablespoons wheat flour', comment=\"Best match is 'Wheat flour, graham flour, whole grain' with emissions of 1.2 kg CO2e / kg.\", unit='kg CO2e / kg', co2_per_kg=1.2), CO2perKg(ingredient='2 tablespoons finely rolled oatmeal', comment=\"Best match is 'Oatmeal, not enriched' with emissions of 1.9 kg CO2e / kg.\", unit='kg CO2e / kg', co2_per_kg=1.9), CO2perKg(ingredient='1 cup milk', comment=\"Best match is 'Sweet milk, 3.5% fat' with emissions of 0.5 kg CO2e / kg.\", unit='kg CO2e / kg', co2_per_kg=0.5), CO2perKg(ingredient='1 egg white', comment=\"Best match is 'Eggs, scrambled eggs' with emissions of 1.0 kg CO2e / kg.\", unit='kg CO2e / kg', co2_per_kg=1.0), CO2perKg(ingredient='1 egg', comment=\"Best match is 'Eggs, scrambled eggs' with emissions of 1.0 kg CO2e / kg.\", unit='kg CO2e / kg', co2_per_kg=1.0), CO2perKg(ingredient='1 onion, finely chopped', comment=\"Best match is 'Onion' with emissions of 0.3 kg CO2e / kg.\", unit='kg CO2e / kg', co2_per_kg=0.3), CO2perKg(ingredient='1 clove garlic, finely chopped', comment=\"Best match is 'Garlic' with emissions of 1.2 kg CO2e / kg.\", unit='kg CO2e / kg', co2_per_kg=1.2), CO2perKg(ingredient='1 teaspoon dried thyme', comment=\"Best match is 'Basil, dried' with emissions of 2.8 kg CO2e / kg.\", unit='kg CO2e / kg', co2_per_kg=2.8), CO2perKg(ingredient='0.5 teaspoon ground cumin', comment=\"Best match is 'Curry powder' with emissions of 6.1 kg CO2e / kg.\", unit='kg CO2e / kg', co2_per_kg=6.1), CO2perKg(ingredient='2 teaspoons salt', comment=\"Best match is 'Salt, table salt (iodized)' with emissions of 0.4 kg CO2e / kg.\", unit='kg CO2e / kg', co2_per_kg=0.4), CO2perKg(ingredient='pepper, freshly ground', comment=\"Best match is 'Pepper, black' with emissions of 5.2 kg CO2e / kg.\", unit='kg CO2e / kg', co2_per_kg=5.2), CO2perKg(ingredient='3 tbsp olive oil, for frying', comment=\"Best match is 'Olive oil' with emissions of 5.9 kg CO2e / kg.\", unit='kg CO2e / kg', co2_per_kg=5.9), CO2perKg(ingredient='1 tablespoon butter, for frying', comment=\"Best match is 'Butter, salted' with emissions of 3.3 kg CO2e / kg.\", unit='kg CO2e / kg', co2_per_kg=3.3)])"
      ]
     },
     "execution_count": 11,
     "metadata": {},
     "output_type": "execute_result"
    }
   ],
   "source": [
    "emissions"
   ]
  },
  {
   "cell_type": "code",
   "execution_count": 12,
   "metadata": {},
   "outputs": [
    {
     "data": {
      "text/plain": [
       "CO2Emissions(emissions=[CO2perKg(ingredient='1 egg', comment=\"Best match is 'Eggs, scrambled eggs' as it is the closest processing level.\", unit='kg CO2e / kg', co2_per_kg=1.0)])"
      ]
     },
     "execution_count": 12,
     "metadata": {},
     "output_type": "execute_result"
    }
   ],
   "source": [
    "emission_chain.invoke([\"1 egg\"])"
   ]
  },
  {
   "cell_type": "code",
   "execution_count": 13,
   "metadata": {},
   "outputs": [
    {
     "data": {
      "text/plain": [
       "{'Eggs, scrambled eggs': '1.0 kg CO2e / kg',\n",
       " 'Egg salad': '1.5 kg CO2e / kg',\n",
       " 'Noodles, eggs': '1.7 kg CO2e / kg'}"
      ]
     },
     "execution_count": 13,
     "metadata": {},
     "output_type": "execute_result"
    }
   ],
   "source": [
    "from food_co2_estimator.retrievers.emission_retriever import get_emission_retriever_chain\n",
    "\n",
    "\n",
    "retriever = get_emission_retriever_chain(k=10)\n",
    "\n",
    "retriever.invoke(\"1 egg\")"
   ]
  },
  {
   "cell_type": "markdown",
   "metadata": {},
   "source": [
    "async test"
   ]
  },
  {
   "cell_type": "code",
   "execution_count": null,
   "metadata": {},
   "outputs": [],
   "source": [
    "\n",
    "recipe_extractor_chain = get_url_text | recipe_extractor\n",
    "full_chain = recipe_extractor | emission_chain_with_translation\n",
    "\n",
    "\n",
    "recipe = await recipe_extractor_chain.ainvoke(url)\n",
    "emissions = await emission_chain_with_translation.ainvoke(\n",
    "    input={\"inputs\": recipe.ingredients, \"language\": \"da\"}\n",
    ")"
   ]
  },
  {
   "cell_type": "code",
   "execution_count": null,
   "metadata": {},
   "outputs": [],
   "source": [
    "emissions"
   ]
  },
  {
   "cell_type": "code",
   "execution_count": null,
   "metadata": {},
   "outputs": [],
   "source": []
  }
 ],
 "metadata": {
  "kernelspec": {
   "display_name": ".venv",
   "language": "python",
   "name": "python3"
  },
  "language_info": {
   "codemirror_mode": {
    "name": "ipython",
    "version": 3
   },
   "file_extension": ".py",
   "mimetype": "text/x-python",
   "name": "python",
   "nbconvert_exporter": "python",
   "pygments_lexer": "ipython3",
   "version": "3.11.4"
  }
 },
 "nbformat": 4,
 "nbformat_minor": 2
}
