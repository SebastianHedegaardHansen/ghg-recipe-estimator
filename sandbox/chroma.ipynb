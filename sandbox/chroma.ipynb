{
 "cells": [
  {
   "cell_type": "code",
   "execution_count": null,
   "metadata": {},
   "outputs": [],
   "source": [
    "import os\n",
    "import pandas as pd\n",
    "from dotenv import load_dotenv\n",
    "\n",
    "if os.getcwd().split(\"/\")[-1] == \"sandbox\":\n",
    "    os.chdir(\"../\")\n",
    "    \n",
    "    \n",
    "load_dotenv()"
   ]
  },
  {
   "cell_type": "code",
   "execution_count": 77,
   "metadata": {},
   "outputs": [],
   "source": [
    "df_dk = pd.read_excel(\"food_co2_estimator/data/DBv2.xlsx\",sheet_name=\"DK\")\n",
    "df_gb = pd.read_excel(\"food_co2_estimator/data/DBv2.xlsx\",sheet_name=\"DK\")"
   ]
  },
  {
   "cell_type": "code",
   "execution_count": null,
   "metadata": {},
   "outputs": [],
   "source": [
    "df_dk"
   ]
  },
  {
   "cell_type": "code",
   "execution_count": 19,
   "metadata": {},
   "outputs": [],
   "source": [
    "from langchain_chroma import Chroma\n",
    "from langchain_openai import OpenAIEmbeddings\n",
    "\n",
    "embeddings = OpenAIEmbeddings(model=\"text-embedding-3-large\")\n",
    "vector_store = Chroma(\n",
    "    collection_name=\"test_db\",\n",
    "    embedding_function=embeddings,\n",
    "    persist_directory=\"./sandbox/test_db\",  # Where to save data locally, remove if not neccesary\n",
    ")"
   ]
  },
  {
   "cell_type": "code",
   "execution_count": null,
   "metadata": {},
   "outputs": [],
   "source": [
    "from typing import Any, Dict, List\n",
    "from uuid import uuid4\n",
    "\n",
    "from langchain_core.documents import Document\n",
    "\n",
    "emission_records_dk: List[Dict[str, Any]] = df_dk.to_dict(orient=\"records\")\n",
    "emission_records_gb: List[Dict[str, Any]] = df_gb.to_dict(orient=\"records\")\n",
    "\n",
    "documents = []\n",
    "uuids = []\n",
    "for id, (emission_record_dk, emission_record_gb) in enumerate(zip(emission_records_dk,emission_records_gb), 1):\n",
    "    \n",
    "    if \"Name\" in emission_record_gb:   \n",
    "        documents.append(\n",
    "            Document(\n",
    "                page_content=emission_record_gb[\"Name\"],\n",
    "                metadata=emission_record_dk,\n",
    "                id=id,\n",
    "            )\n",
    "        )\n",
    "        uuids.append(str(uuid4()))\n",
    "    \n",
    "\n",
    "vector_store.add_documents(documents)"
   ]
  },
  {
   "cell_type": "code",
   "execution_count": null,
   "metadata": {},
   "outputs": [],
   "source": [
    "\n",
    "results = vector_store.similarity_search(query=\"lasagna sheets\",k=5)\n",
    "for res in results:\n",
    "    print(f\"* {res.page_content} =  {res.metadata['Total kg CO2e/kg']}\")"
   ]
  },
  {
   "cell_type": "code",
   "execution_count": null,
   "metadata": {},
   "outputs": [],
   "source": [
    "retriever = vector_store.as_retriever(k=5)\n",
    "\n",
    "retriever.batch([\"tomat\",\"kartoffel\"])\n",
    "    \n",
    "     "
   ]
  },
  {
   "cell_type": "code",
   "execution_count": null,
   "metadata": {},
   "outputs": [],
   "source": [
    "from langchain_core.runnables import RunnablePassthrough\n",
    "\n",
    "\n",
    "def parse_retriever_output(documents: List[Document]):\n",
    "    results = {}\n",
    "    for document in documents:\n",
    "        if \"Total kg CO2e/kg\" in document.metadata.keys():\n",
    "            emission = document.metadata['Total kg CO2e/kg']\n",
    "            emission_rounded = round(float(emission),1)\n",
    "            results[document.page_content] = f\"{emission_rounded} kg CO2e / kg\"\n",
    "    return results\n",
    "\n",
    "\n",
    "retriever_chain = retriever | parse_retriever_output\n",
    "\n",
    "\n",
    "def batch_retriever(inputs: List[str]):\n",
    "    return dict(zip(inputs,retriever_chain.batch(inputs)))\n",
    "\n",
    "\n",
    "\n",
    "batch_retriever([\"tomat\",\"agurk\"])\n",
    "\n",
    "\n"
   ]
  },
  {
   "cell_type": "code",
   "execution_count": 88,
   "metadata": {},
   "outputs": [],
   "source": [
    "from food_co2_estimator.chains.recipe_extractor import get_recipe_extractor_chain\n",
    "from food_co2_estimator.utils.url import get_url_text, get_full_url_text"
   ]
  },
  {
   "cell_type": "code",
   "execution_count": 90,
   "metadata": {},
   "outputs": [],
   "source": [
    "recipe_extractor = get_recipe_extractor_chain(verbose=True)"
   ]
  },
  {
   "cell_type": "code",
   "execution_count": 91,
   "metadata": {},
   "outputs": [],
   "source": [
    "url = \"https://www.valdemarsro.dk/frikadeller/\"\n",
    "text = get_full_url_text(url)"
   ]
  },
  {
   "cell_type": "code",
   "execution_count": null,
   "metadata": {},
   "outputs": [],
   "source": [
    "text"
   ]
  },
  {
   "cell_type": "code",
   "execution_count": null,
   "metadata": {},
   "outputs": [],
   "source": [
    "# text = get_full_url_text(url)\n",
    "text = get_url_text(url)\n",
    "output = recipe_extractor.invoke(input=text)"
   ]
  },
  {
   "cell_type": "code",
   "execution_count": null,
   "metadata": {},
   "outputs": [],
   "source": [
    "output[\"text\"]"
   ]
  },
  {
   "cell_type": "code",
   "execution_count": 48,
   "metadata": {},
   "outputs": [],
   "source": [
    "from langchain_core.prompts import ChatPromptTemplate\n",
    "from langchain_core.runnables import RunnablePassthrough\n",
    "from langchain_openai import ChatOpenAI\n",
    "\n",
    "message = \"\"\"\n",
    "Given this list of ingredients, return the emissions in kg / Co2e kg provided the best matching emission option. \n",
    "{ingredients}\n",
    "\n",
    "Ingredients emission options:\n",
    "{context}\n",
    "\"\"\"\n",
    "\n",
    "prompt = ChatPromptTemplate.from_messages([(\"human\", message)])\n",
    "\n",
    "llm = ChatOpenAI(model=\"gpt-4o-mini\", temperature=0,verbose=True)\n",
    "\n",
    "\n",
    "rag_chain = {\"context\": batch_retriever, \"ingredients\": RunnablePassthrough()} | prompt | llm"
   ]
  },
  {
   "cell_type": "code",
   "execution_count": 57,
   "metadata": {},
   "outputs": [],
   "source": [
    "output = rag_chain.invoke([\"500 g kartofler\", \"300 gram svinekød\"])"
   ]
  },
  {
   "cell_type": "code",
   "execution_count": null,
   "metadata": {},
   "outputs": [],
   "source": [
    "print(output.content)"
   ]
  },
  {
   "cell_type": "code",
   "execution_count": null,
   "metadata": {},
   "outputs": [],
   "source": [
    "from deep_translator import GoogleTranslator\n",
    "\n",
    "\n",
    "GoogleTranslator(source=\"dk\",target=\"en\")"
   ]
  },
  {
   "cell_type": "code",
   "execution_count": null,
   "metadata": {},
   "outputs": [],
   "source": [
    "from translate import Translator\n",
    "\n",
    "translator = Translator(to_lang=\"en\",from_lang=\"da\")\n",
    "translator.translate(\"500 g svinekød \")"
   ]
  },
  {
   "cell_type": "code",
   "execution_count": null,
   "metadata": {},
   "outputs": [],
   "source": []
  },
  {
   "cell_type": "code",
   "execution_count": null,
   "metadata": {},
   "outputs": [],
   "source": []
  }
 ],
 "metadata": {
  "kernelspec": {
   "display_name": ".venv",
   "language": "python",
   "name": "python3"
  },
  "language_info": {
   "codemirror_mode": {
    "name": "ipython",
    "version": 3
   },
   "file_extension": ".py",
   "mimetype": "text/x-python",
   "name": "python",
   "nbconvert_exporter": "python",
   "pygments_lexer": "ipython3",
   "version": "3.11.4"
  }
 },
 "nbformat": 4,
 "nbformat_minor": 2
}
