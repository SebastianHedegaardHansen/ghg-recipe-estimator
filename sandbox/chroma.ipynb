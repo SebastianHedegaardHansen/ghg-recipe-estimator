{
 "cells": [
  {
   "cell_type": "code",
   "execution_count": null,
   "metadata": {},
   "outputs": [],
   "source": [
    "import os\n",
    "import pandas as pd\n",
    "from dotenv import load_dotenv\n",
    "\n",
    "if os.getcwd().split(\"/\")[-1] == \"sandbox\":\n",
    "    os.chdir(\"../\")\n",
    "    \n",
    "    \n",
    "load_dotenv()"
   ]
  },
  {
   "cell_type": "code",
   "execution_count": 77,
   "metadata": {},
   "outputs": [],
   "source": [
    "df_dk = pd.read_excel(\"food_co2_estimator/data/DBv2.xlsx\",sheet_name=\"DK\")\n",
    "df_gb = pd.read_excel(\"food_co2_estimator/data/DBv2.xlsx\",sheet_name=\"DK\")"
   ]
  },
  {
   "cell_type": "code",
   "execution_count": null,
   "metadata": {},
   "outputs": [],
   "source": [
    "df_dk"
   ]
  },
  {
   "cell_type": "code",
   "execution_count": 19,
   "metadata": {},
   "outputs": [],
   "source": [
    "from langchain_chroma import Chroma\n",
    "from langchain_openai import OpenAIEmbeddings\n",
    "\n",
    "embeddings = OpenAIEmbeddings(model=\"text-embedding-3-large\")\n",
    "vector_store = Chroma(\n",
    "    collection_name=\"test_db\",\n",
    "    embedding_function=embeddings,\n",
    "    persist_directory=\"./sandbox/test_db\",  # Where to save data locally, remove if not neccesary\n",
    ")"
   ]
  },
  {
   "cell_type": "code",
   "execution_count": null,
   "metadata": {},
   "outputs": [],
   "source": [
    "from typing import Any, Dict, List\n",
    "from uuid import uuid4\n",
    "\n",
    "from langchain_core.documents import Document\n",
    "\n",
    "emission_records_dk: List[Dict[str, Any]] = df_dk.to_dict(orient=\"records\")\n",
    "emission_records_gb: List[Dict[str, Any]] = df_gb.to_dict(orient=\"records\")\n",
    "\n",
    "documents = []\n",
    "uuids = []\n",
    "for id, (emission_record_dk, emission_record_gb) in enumerate(zip(emission_records_dk,emission_records_gb), 1):\n",
    "    \n",
    "    if \"Name\" in emission_record_gb:   \n",
    "        documents.append(\n",
    "            Document(\n",
    "                page_content=emission_record_gb[\"Name\"],\n",
    "                metadata=emission_record_dk,\n",
    "                id=id,\n",
    "            )\n",
    "        )\n",
    "        uuids.append(str(uuid4()))\n",
    "    \n",
    "\n",
    "vector_store.add_documents(documents)"
   ]
  },
  {
   "cell_type": "code",
   "execution_count": null,
   "metadata": {},
   "outputs": [],
   "source": [
    "\n",
    "results = vector_store.similarity_search(query=\"lasagna sheets\",k=5)\n",
    "for res in results:\n",
    "    print(f\"* {res.page_content} =  {res.metadata['Total kg CO2e/kg']}\")"
   ]
  },
  {
   "cell_type": "code",
   "execution_count": null,
   "metadata": {},
   "outputs": [],
   "source": [
    "retriever = vector_store.as_retriever(k=5)\n",
    "\n",
    "retriever.batch([\"tomat\",\"kartoffel\"])\n",
    "    \n",
    "     "
   ]
  },
  {
   "cell_type": "code",
   "execution_count": null,
   "metadata": {},
   "outputs": [],
   "source": [
    "from langchain_core.runnables import RunnablePassthrough\n",
    "\n",
    "\n",
    "def parse_retriever_output(documents: List[Document]):\n",
    "    results = {}\n",
    "    for document in documents:\n",
    "        if \"Total kg CO2e/kg\" in document.metadata.keys():\n",
    "            emission = document.metadata['Total kg CO2e/kg']\n",
    "            emission_rounded = round(float(emission),1)\n",
    "            results[document.page_content] = f\"{emission_rounded} kg CO2e / kg\"\n",
    "    return results\n",
    "\n",
    "\n",
    "retriever_chain = retriever | parse_retriever_output\n",
    "\n",
    "\n",
    "def batch_retriever(inputs: List[str]):\n",
    "    return dict(zip(inputs,retriever_chain.batch(inputs)))\n",
    "\n",
    "\n",
    "\n",
    "batch_retriever([\"tomat\",\"agurk\"])\n",
    "\n",
    "\n"
   ]
  },
  {
   "cell_type": "code",
   "execution_count": 88,
   "metadata": {},
   "outputs": [],
   "source": [
    "from food_co2_estimator.chains.recipe_extractor import get_recipe_extractor_chain\n",
    "from food_co2_estimator.utils.url import get_url_text, get_full_url_text"
   ]
  },
  {
   "cell_type": "code",
   "execution_count": 127,
   "metadata": {},
   "outputs": [],
   "source": [
    "recipe_extractor = get_recipe_extractor_chain(verbose=False)"
   ]
  },
  {
   "cell_type": "code",
   "execution_count": 128,
   "metadata": {},
   "outputs": [],
   "source": [
    "url = \"https://www.valdemarsro.dk/frikadeller/\"\n",
    "text = get_full_url_text(url)"
   ]
  },
  {
   "cell_type": "code",
   "execution_count": 129,
   "metadata": {},
   "outputs": [],
   "source": [
    "text = get_url_text(url)\n",
    "output = recipe_extractor.invoke(input=text)"
   ]
  },
  {
   "cell_type": "code",
   "execution_count": 135,
   "metadata": {},
   "outputs": [],
   "source": [
    "def parse_recipe_output(output: Dict[str,Any]) -> List[str]:\n",
    "    return output[\"text\"].ingredients"
   ]
  },
  {
   "cell_type": "code",
   "execution_count": 139,
   "metadata": {},
   "outputs": [],
   "source": [
    "from operator import itemgetter\n",
    "from langchain_core.runnables import RunnablePassthrough, RunnableLambda\n",
    "extractor_chain = get_url_text | recipe_extractor | parse_recipe_output"
   ]
  },
  {
   "cell_type": "code",
   "execution_count": null,
   "metadata": {},
   "outputs": [],
   "source": [
    "extractor_chain.invoke(url)"
   ]
  },
  {
   "cell_type": "code",
   "execution_count": 141,
   "metadata": {},
   "outputs": [],
   "source": [
    "from langchain_core.prompts import ChatPromptTemplate\n",
    "from langchain_core.runnables import RunnablePassthrough, RunnableLambda\n",
    "from langchain_openai import ChatOpenAI\n",
    "\n",
    "from food_co2_estimator.output_parsers.sql_co2_estimator import CO2Emissions\n",
    "\n",
    "message = \"\"\"\n",
    "Given this list of ingredients, return the emissions in kg / Co2e kg provided the best matching emission option. \n",
    "{ingredients}\n",
    "\n",
    "Ingredients emission options:\n",
    "{context}\n",
    "\"\"\"\n",
    "\n",
    "prompt = ChatPromptTemplate.from_messages([(\"human\", message)])\n",
    "\n",
    "llm = ChatOpenAI(model=\"gpt-4o-mini\", temperature=0,verbose=True)\n",
    "\n",
    "structured_llm = llm.with_structured_output(CO2Emissions)\n",
    "\n",
    "rag_chain = extractor_chain | {\"context\": batch_retriever, \"ingredients\": RunnablePassthrough()} | prompt | structured_llm"
   ]
  },
  {
   "cell_type": "code",
   "execution_count": 143,
   "metadata": {},
   "outputs": [],
   "source": [
    "output = rag_chain.invoke(url)"
   ]
  },
  {
   "cell_type": "code",
   "execution_count": null,
   "metadata": {},
   "outputs": [],
   "source": [
    "output"
   ]
  },
  {
   "cell_type": "code",
   "execution_count": null,
   "metadata": {},
   "outputs": [],
   "source": [
    "from translate import Translator\n",
    "from operator import itemgetter\n",
    "\n",
    "\n",
    "translator = Translator(to_lang=\"en\", from_lang=\"da\")\n",
    "\n",
    "def _translate_if_danish(inputs:List[str],language: str):\n",
    "    if language == \"en\":\n",
    "        return inputs\n",
    "    \n",
    "    inputs_str = \", \".join(inputs)\n",
    "    translations = translator.translate(inputs_str)\n",
    "    return translations.split(\", \")\n",
    "\n",
    "def translate_if_danish(_dict: Dict[str,str]):\n",
    "    return _translate_if_danish(inputs=_dict[\"inputs\"],language=_dict[\"language\"])\n",
    "\n",
    " \n",
    "_translate_if_danish([\"tomat\",\"kartoffel\"],language=\"da\")\n"
   ]
  },
  {
   "cell_type": "code",
   "execution_count": 146,
   "metadata": {},
   "outputs": [],
   "source": [
    "from langchain_core.runnables import RunnableLambda\n",
    "\n",
    "translation_chain = {\"inputs\": itemgetter(\"inputs\"), \"language\": itemgetter(\"language\")} | RunnableLambda(translate_if_danish) | rag_chain"
   ]
  },
  {
   "cell_type": "code",
   "execution_count": null,
   "metadata": {},
   "outputs": [],
   "source": [
    "output = translation_chain.invoke({\"inputs\":[\"tomat\",\"kartoffel\"],\"language\":\"da\"})"
   ]
  },
  {
   "cell_type": "code",
   "execution_count": null,
   "metadata": {},
   "outputs": [],
   "source": [
    "print(output.emissions[0])"
   ]
  },
  {
   "cell_type": "code",
   "execution_count": null,
   "metadata": {},
   "outputs": [],
   "source": []
  }
 ],
 "metadata": {
  "kernelspec": {
   "display_name": ".venv",
   "language": "python",
   "name": "python3"
  },
  "language_info": {
   "codemirror_mode": {
    "name": "ipython",
    "version": 3
   },
   "file_extension": ".py",
   "mimetype": "text/x-python",
   "name": "python",
   "nbconvert_exporter": "python",
   "pygments_lexer": "ipython3",
   "version": "3.11.4"
  }
 },
 "nbformat": 4,
 "nbformat_minor": 2
}
