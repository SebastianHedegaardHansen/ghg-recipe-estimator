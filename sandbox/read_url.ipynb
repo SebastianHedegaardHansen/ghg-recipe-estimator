{
 "cells": [
  {
   "cell_type": "code",
   "execution_count": null,
   "metadata": {},
   "outputs": [],
   "source": [
    "import requests\n",
    "\n",
    "r = requests.get('https://www.arla.dk/opskrifter/spaghetti-bolognese/')"
   ]
  },
  {
   "cell_type": "code",
   "execution_count": null,
   "metadata": {},
   "outputs": [],
   "source": [
    "import re\n",
    "# Use regular expressions to find the index of ingredients on either danish or english\n",
    "start_idx = re.search(\"(Ingrediens)|(Ingredient)\", text).start()\n",
    "end_idx = start_idx + 2000\n",
    "\n",
    "html_snippet = text[start_idx:end_idx]\n"
   ]
  },
  {
   "cell_type": "code",
   "execution_count": null,
   "metadata": {},
   "outputs": [],
   "source": [
    "html_snippet"
   ]
  },
  {
   "cell_type": "code",
   "execution_count": null,
   "metadata": {},
   "outputs": [],
   "source": [
    "from langchain.prompts import PromptTemplate\n",
    "from langchain.llms import OpenAI\n",
    "\n",
    "llm = OpenAI(temperature=0)\n",
    "prompt = PromptTemplate(\n",
    "    input_variables=[\"html\"],\n",
    "    template=\"\"\"Given the following {html} snippet, extract the ingredients and instructions.\n",
    "    \n",
    "    Format the final results as the following example: \n",
    "    \n",
    "    Ingredients:\n",
    "    - 250 gram of ingredient_1\n",
    "    - 1 can of ingredient_2\n",
    "    - etc.\n",
    "    \n",
    "    Instructions:\n",
    "    Text, text, text.\n",
    "    \n",
    "    Translatate the ingredients and instructions to english.\n",
    "    \n",
    "    If unable to extract the ingredients with confidence, return the following:\n",
    "    Ingredients:\n",
    "    Unable to extract ingredients from html content\n",
    "    \n",
    "    Instructions:\n",
    "    Unable to extract instructions from html content\n",
    "    \n",
    "    DO NOT MAKE UP ANY INGREDIENTS OR INSTRUCTIONS. THIS IS IMPORTANT! \n",
    "    \"\"\",\n",
    ")\n",
    "\n"
   ]
  },
  {
   "cell_type": "code",
   "execution_count": null,
   "metadata": {},
   "outputs": [],
   "source": [
    "from langchain.chains import LLMChain\n",
    "chain = LLMChain(llm=llm, prompt=prompt)\n",
    "\n",
    "print(chain.run(html_snippet))"
   ]
  },
  {
   "cell_type": "code",
   "execution_count": null,
   "metadata": {},
   "outputs": [],
   "source": []
  }
 ],
 "metadata": {
  "kernelspec": {
   "display_name": "venv",
   "language": "python",
   "name": "python3"
  },
  "language_info": {
   "codemirror_mode": {
    "name": "ipython",
    "version": 3
   },
   "file_extension": ".py",
   "mimetype": "text/x-python",
   "name": "python",
   "nbconvert_exporter": "python",
   "pygments_lexer": "ipython3",
   "version": "3.10.6"
  },
  "orig_nbformat": 4
 },
 "nbformat": 4,
 "nbformat_minor": 2
}
