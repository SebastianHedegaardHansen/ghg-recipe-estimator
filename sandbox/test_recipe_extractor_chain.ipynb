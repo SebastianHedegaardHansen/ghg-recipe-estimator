{
 "cells": [
  {
   "cell_type": "code",
   "execution_count": null,
   "metadata": {},
   "outputs": [],
   "source": [
    "from chains.recipe_extractor import get_recipe_extractor_chain\n",
    "from utils import get_url_text\n",
    "\n",
    "recipe_extractor_chain = get_recipe_extractor_chain(verbose=True)"
   ]
  },
  {
   "cell_type": "code",
   "execution_count": null,
   "metadata": {},
   "outputs": [],
   "source": [
    "# url = \"https://www.valdemarsro.dk/blinis-med-stenbiderrogn/\"\n",
    "url = \"https://www.foodfanatic.dk/tacos-med-lynchili-og-salsa\"\n",
    "\n",
    "text = get_url_text(url)\n",
    "ingredients = recipe_extractor_chain.run(text)"
   ]
  },
  {
   "cell_type": "code",
   "execution_count": null,
   "metadata": {},
   "outputs": [],
   "source": [
    "print(ingredients)"
   ]
  }
 ],
 "metadata": {
  "kernelspec": {
   "display_name": "venv",
   "language": "python",
   "name": "python3"
  },
  "language_info": {
   "codemirror_mode": {
    "name": "ipython",
    "version": 3
   },
   "file_extension": ".py",
   "mimetype": "text/x-python",
   "name": "python",
   "nbconvert_exporter": "python",
   "pygments_lexer": "ipython3",
   "version": "3.10.6"
  },
  "orig_nbformat": 4
 },
 "nbformat": 4,
 "nbformat_minor": 2
}
