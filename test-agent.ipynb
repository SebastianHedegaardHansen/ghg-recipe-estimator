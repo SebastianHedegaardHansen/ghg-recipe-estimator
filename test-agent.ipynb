{
 "cells": [
  {
   "cell_type": "code",
   "execution_count": 1,
   "metadata": {},
   "outputs": [],
   "source": [
    "from langchain.agents import ZeroShotAgent, Tool, AgentExecutor, create_sql_agent, get_all_tool_names\n",
    "from langchain.chains import SQLDatabaseChain\n",
    "from langchain import OpenAI, SerpAPIWrapper, LLMChain, GoogleSearchAPIWrapper\n",
    "from langchain.agents.agent_toolkits import SQLDatabaseToolkit\n",
    "from langchain.sql_database import SQLDatabase\n",
    "from langchain.chat_models import ChatOpenAI\n",
    "\n",
    "from langchain.agents import ZeroShotAgent, Tool, AgentExecutor\n",
    "from langchain import OpenAI, SerpAPIWrapper, LLMChain, LLMMathChain\n",
    "from langchain.utilities import PythonREPL\n",
    "\n",
    "from chains.co2_sql import get_en_co2_sql_chain\n",
    "from chains.weight_est import get_en_weight_est"
   ]
  },
  {
   "cell_type": "code",
   "execution_count": 8,
   "metadata": {},
   "outputs": [],
   "source": [
    "search_chain = GoogleSearchAPIWrapper(k=10, search_engine=\"google\")\n",
    "math_chain = LLMMathChain(llm=ChatOpenAI(temperature=0)) # type: ignore\n",
    "sql_chain = get_en_co2_sql_chain()\n",
    "weight_est_chain = get_en_weight_est()\n",
    "\n",
    "\n",
    "tools = [\n",
    "    Tool(\n",
    "        name=\"Weight estimator\",\n",
    "        func=weight_est_chain.run,\n",
    "        description=\"Useful for estimating the weight of each item by passing all ingredients at once as input.\",\n",
    "    ),\n",
    "    Tool(\n",
    "        name=\"CO2 emission estimator\",\n",
    "        func=sql_chain.run,\n",
    "        description=\"Useful for finding out the CO2 emission of each item by passing all ingredients at once as input.\",\n",
    "    ),\n",
    "    Tool(\n",
    "        name=\"Google search\",\n",
    "        func=search_chain.run,\n",
    "        description=\"Useful for finding out the kg CO2e / kg if the ingredient is not in the database. Should only use if the ingredient weights more than 100 g.\",\n",
    "    ),\n",
    "    Tool(\n",
    "        name=\"Math calculator\",\n",
    "        func=math_chain.run,\n",
    "        description=\"\"\"Useful for calculating the CO2 emission of each ingredients by kg * kg CO2e / kg. You can for example ask: What is 0.1 * 1.26 + 0.2 * 0.5?\"\"\"\n",
    "    )\n",
    "]"
   ]
  },
  {
   "cell_type": "code",
   "execution_count": 9,
   "metadata": {},
   "outputs": [],
   "source": [
    "prefix = \"\"\"Act as a CO2 emission calculator that understands danish and english. \n",
    "\n",
    "Given a list of ingredients to a recipe, your job is to estimate the CO2 emission for each ingredient in kg CO2e and the recipe in total. \n",
    "It is important that you include the intermediate calculations for each ingredients and the total CO2 emission of the recipe \n",
    "in the final answer.\n",
    " \n",
    "You have access to the following tools:\"\"\""
   ]
  },
  {
   "cell_type": "code",
   "execution_count": null,
   "metadata": {},
   "outputs": [],
   "source": [
    "# Remember, that your Final Answer cannot be trusted unless you show the intermediate calculations and the total CO2 emission of the recipe."
   ]
  },
  {
   "cell_type": "code",
   "execution_count": 34,
   "metadata": {},
   "outputs": [],
   "source": [
    "prefix = \"\"\"Act as a CO2 emission calculator that understands danish and english. \n",
    "\n",
    "Given a list of ingredients to a recipe, your job is to estimate the CO2 emission for each ingredient in kg CO2e and the recipe in total. \n",
    " \n",
    "You have access to the following tools:\"\"\"\n",
    "\n",
    "suffix = \"\"\"\n",
    "\n",
    "You can use all tools as many times as you want.\n",
    "\n",
    "You solve this task by: \n",
    "1. Estimating the weights of the ingredients in the recipe using the weight estimation tool.\n",
    "2. Finding the CO2 emission of each ingredient in kg CO2e per kg using the CO2 emission estimator tool. \n",
    "   Remember querying all ingredients. That includes salt, sugar etc.\n",
    "3. If necessary, use Google Search to find the CO2 emission of a ingredient if CO2 emission is not in the database\n",
    "   and it weights more than 10 g. \n",
    "4. Calculate the CO2 emission in kg per ingredient and sum them to get the total CO2 emission of the recipe using the math calculator tool.\n",
    "5. Provide the answer where you show the CO2 calculation for each ingredient and the total CO2 emission of the recipe. \n",
    "\n",
    "Small amounts of ingredients like salt, sugar etc. that weight less than 0.01 kg can be ignored.\n",
    "\n",
    "You must provide the Final Answer in the following format: \n",
    "Total CO2 emission: Z Total kg CO2e\n",
    "Calculation method per ingredient: X kg CO2e / kg * Y kg = Z kg CO2e\n",
    "ingredient 1: X1 * Y1 = Z1 \n",
    "ingredient 2: X2 * Y2 = Z2 \n",
    "etc.\n",
    "\n",
    "In the Question section, the ingredients are provided. \n",
    "\n",
    "Begin! \n",
    "\n",
    "Question: {input}\n",
    "{agent_scratchpad}\"\"\"\n",
    "\n",
    "prompt = ZeroShotAgent.create_prompt(\n",
    "    tools, \n",
    "    prefix=prefix, \n",
    "    suffix=suffix, \n",
    "    input_variables=[\"input\", \"agent_scratchpad\"]\n",
    ")"
   ]
  },
  {
   "cell_type": "code",
   "execution_count": 35,
   "metadata": {},
   "outputs": [],
   "source": [
    "llm_chain = LLMChain(llm=OpenAI(temperature=0), prompt=prompt)"
   ]
  },
  {
   "cell_type": "code",
   "execution_count": 36,
   "metadata": {},
   "outputs": [],
   "source": [
    "tool_names = [tool.name for tool in tools]\n",
    "agent = ZeroShotAgent(llm_chain=llm_chain, allowed_tools=tool_names)\n",
    "\n",
    "agent_executor = AgentExecutor.from_agent_and_tools(agent=agent, tools=tools, verbose=True)"
   ]
  },
  {
   "cell_type": "code",
   "execution_count": 37,
   "metadata": {},
   "outputs": [
    {
     "name": "stdout",
     "output_type": "stream",
     "text": [
      "\n",
      "\n",
      "\u001b[1m> Entering new AgentExecutor chain...\u001b[0m\n",
      "\u001b[32;1m\u001b[1;3mThought: I need to estimate the weight of each ingredient and find the CO2 emission of each ingredient. \n",
      "Action: Weight estimator\n",
      "Action Input: 150 g red lentils, 1 large onion, 1 pepper, 2 cubes of vegetable bouillon, 3 cloves garlic, pressed, 1 can of chopped tomatoes, 1 tin of tomato concentrate (140 g), 1 can of coconut milk (400 ml), 1 tbsp. lemon juice, 1 tsp. sugar, ½ teaspoon chili powder, ½ teaspoon ground cumin, Possibly. 1/4 tsp. smoked paprika, A large handful of fresh basil, chopped (or 2 tsp dried basil)\u001b[0m\n",
      "Observation: \u001b[36;1m\u001b[1;3mAnswer:\n",
      "150 g red lentils: 0.15 kg\n",
      "1 large onion: 0.285 kg\n",
      "1 pepper: 0.150 kg\n",
      "2 cubes of vegetable bouillon: 0.008 kg (2 x 4 g)\n",
      "3 cloves garlic, pressed: negligible \n",
      "1 can of chopped tomatoes: 0.4 kg\n",
      "1 tin of tomato concentrate (140 g): 0.140 kg\n",
      "1 can of coconut milk (400 ml): 0.400 kg\n",
      "1 tbsp. lemon juice: 0.015 kg\n",
      "1 tsp. sugar: 0.005 kg\n",
      "½ teaspoon chili powder: negligible \n",
      "½ teaspoon ground cumin: negligible \n",
      "Possibly. 1/4 tsp. smoked paprika: negligible \n",
      "A large handful of fresh basil, chopped (or 2 tsp dried basil): negligible.\u001b[0m\n",
      "Thought:\u001b[32;1m\u001b[1;3m I now know the weight of each ingredient. \n",
      "Action: CO2 emission estimator\n",
      "Action Input: 150 g red lentils, 0.285 kg onion, 0.150 kg pepper, 0.008 kg vegetable bouillon, 0.4 kg chopped tomatoes, 0.140 kg tomato concentrate, 0.400 kg coconut milk, 0.015 kg lemon juice, 0.005 kg sugar\u001b[0m\n",
      "Observation: \u001b[33;1m\u001b[1;3mRed lentils: 1.78 kg CO2e / kg\n",
      "Onion: 0.9 kg CO2e / kg (closest match was raw onion)\n",
      "Pepper: 1.02 kg CO2e / kg (closest match was sweet red pepper)\n",
      "Vegetable bouillon: 0.38 kg CO2e / kg (closest match was bouillon, chicken, prepared)\n",
      "Chopped tomatoes: 1.26 kg CO2e / kg (closest match was tomato, peeled, canned)\n",
      "Tomato concentrate: 2.48 kg CO2e / kg (closest match was tomato paste)\n",
      "Coconut milk: 3.5 kg CO2e / kg\n",
      "Lemon juice: 0.94 kg CO2e / kg (closest match was lemon, raw)\n",
      "Sugar: 1.92-2.0 kg CO2e / kg (closest match was brown sugar and sucrose, white respectively)\u001b[0m\n",
      "Thought:\u001b[32;1m\u001b[1;3m I now know the CO2 emission of each ingredient. \n",
      "Action: Math calculator\n",
      "Action Input: 0.15 * 1.78 + 0.285 * 0.9 + 0.15 * 1.02 + 0.008 * 0.38 + 0.4 * 1.26 + 0.14 * 2.48 + 0.4 * 3.5 + 0.015 * 0.94 + 0.005 * 1.92\u001b[0m\n",
      "Observation: \u001b[31;1m\u001b[1;3mAnswer: 2.95444\n",
      "\u001b[0m\n",
      "Thought:\u001b[32;1m\u001b[1;3m I now know the final answer\n",
      "Final Answer: Total CO2 emission: 2.95444 kg CO2e\n",
      "Calculation method per ingredient: X kg CO2e / kg * Y kg = Z kg CO2e\n",
      "Red lentils: 1.78 * 0.15 = 0.267 kg CO2e\n",
      "Onion: 0.9 * 0.285 = 0.256 kg CO2e\n",
      "Pepper: 1.02 * 0.15 = 0.153 kg CO2e\n",
      "Vegetable bouillon: 0.38 * 0.008 = 0.003 kg CO2e\n",
      "Chopped tomatoes: 1.26 * 0.4 = 0.504 kg CO2e\n",
      "Tomato concentrate: 2.48 * 0.14 = 0.348 kg CO2e\n",
      "Coconut milk: 3.5 * 0.4 = 1.4 kg CO2e\n",
      "Lemon juice: 0.94 * 0.015 = 0.014 kg CO2e\n",
      "Sugar: 1.92 * 0.005 = 0.009 kg CO2e\u001b[0m\n",
      "\n",
      "\u001b[1m> Finished chain.\u001b[0m\n",
      "Total Tokens: 8767\n",
      "Total prompt tokens: 7672\n"
     ]
    }
   ],
   "source": [
    "from langchain.callbacks import get_openai_callback\n",
    "\n",
    "with get_openai_callback() as cb:\n",
    "    answer = agent_executor.run(\n",
    "        \"\"\"\n",
    "        150 g red lentils\n",
    "        1 large onion, 1 pepper\n",
    "        2 cubes of vegetable bouillon\n",
    "        3 cloves garlic, pressed\n",
    "        1 can of chopped tomatoes,\n",
    "        1 tin of tomato concentrate (140 g),\n",
    "        1 can of coconut milk (400 ml),\n",
    "        1 tbsp. lemon juice,\n",
    "        1 tsp. sugar,\n",
    "        ½ teaspoon chili powder,\n",
    "        ½ teaspoon ground cumin,\n",
    "        Possibly. 1/4 tsp. smoked paprika,\n",
    "        A large handful of fresh basil, chopped\n",
    "        (or 2 tsp dried basil)\n",
    "        \"\"\"\n",
    "    )\n",
    "    \n",
    "    print(\"Total Tokens:\", cb.total_tokens)\n",
    "    print(\"Total prompt tokens:\", cb.prompt_tokens)\n",
    "    \n",
    "    "
   ]
  },
  {
   "cell_type": "code",
   "execution_count": 38,
   "metadata": {},
   "outputs": [
    {
     "name": "stdout",
     "output_type": "stream",
     "text": [
      "Total CO2 emission: 2.95444 kg CO2e\n",
      "Calculation method per ingredient: X kg CO2e / kg * Y kg = Z kg CO2e\n",
      "Red lentils: 1.78 * 0.15 = 0.267 kg CO2e\n",
      "Onion: 0.9 * 0.285 = 0.256 kg CO2e\n",
      "Pepper: 1.02 * 0.15 = 0.153 kg CO2e\n",
      "Vegetable bouillon: 0.38 * 0.008 = 0.003 kg CO2e\n",
      "Chopped tomatoes: 1.26 * 0.4 = 0.504 kg CO2e\n",
      "Tomato concentrate: 2.48 * 0.14 = 0.348 kg CO2e\n",
      "Coconut milk: 3.5 * 0.4 = 1.4 kg CO2e\n",
      "Lemon juice: 0.94 * 0.015 = 0.014 kg CO2e\n",
      "Sugar: 1.92 * 0.005 = 0.009 kg CO2e\n"
     ]
    }
   ],
   "source": [
    "print(answer)"
   ]
  },
  {
   "cell_type": "code",
   "execution_count": null,
   "metadata": {},
   "outputs": [],
   "source": [
    "\"\"\"\n",
    "Example of Final Answer:\n",
    "Calculation: X kg CO2e / kg * Y kg = Z kg CO2e\n",
    "------------------------------------------------------------\n",
    "2 carrots: 0.25 * 0.2 = 0.05\n",
    "1 broccoli: 0.84 * 0.5 = 0.42\n",
    "250 g minced chicken: 3.76 * 0.25 = 0.94\n",
    "salt: Weight 0.001 kg is neglible\n",
    "pepper: Weight 0.001 kg is neglible\n",
    "------------------------------------------------------------\n",
    "Total CO2 emission: 1.41 kg CO2e\n",
    "------------------------------------------------------------\n",
    "\"\"\""
   ]
  },
  {
   "cell_type": "code",
   "execution_count": null,
   "metadata": {},
   "outputs": [],
   "source": []
  }
 ],
 "metadata": {
  "kernelspec": {
   "display_name": "venv",
   "language": "python",
   "name": "python3"
  },
  "language_info": {
   "codemirror_mode": {
    "name": "ipython",
    "version": 3
   },
   "file_extension": ".py",
   "mimetype": "text/x-python",
   "name": "python",
   "nbconvert_exporter": "python",
   "pygments_lexer": "ipython3",
   "version": "3.10.6"
  },
  "orig_nbformat": 4
 },
 "nbformat": 4,
 "nbformat_minor": 2
}
