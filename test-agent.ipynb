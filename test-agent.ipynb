{
 "cells": [
  {
   "cell_type": "code",
   "execution_count": null,
   "metadata": {},
   "outputs": [],
   "source": [
    "from langchain.agents import ZeroShotAgent, Tool, AgentExecutor, create_sql_agent, get_all_tool_names\n",
    "from langchain.chains import SQLDatabaseChain\n",
    "from langchain import OpenAI, SerpAPIWrapper, LLMChain, GoogleSearchAPIWrapper\n",
    "from langchain.agents.agent_toolkits import SQLDatabaseToolkit\n",
    "from langchain.sql_database import SQLDatabase\n",
    "from langchain.chat_models import ChatOpenAI\n",
    "\n",
    "from langchain.agents import ZeroShotAgent, Tool, AgentExecutor\n",
    "from langchain import OpenAI, SerpAPIWrapper, LLMChain, LLMMathChain\n",
    "from langchain.utilities import PythonREPL\n",
    "\n",
    "from chains.co2_sql import get_en_co2_sql_chain\n",
    "from chains.weight_est import get_en_weight_est"
   ]
  },
  {
   "cell_type": "code",
   "execution_count": null,
   "metadata": {},
   "outputs": [],
   "source": [
    "search_chain = GoogleSearchAPIWrapper(k=10, search_engine=\"google\")\n",
    "math_chain = LLMMathChain(llm=ChatOpenAI(temperature=0)) # type: ignore\n",
    "sql_chain = get_en_co2_sql_chain()\n",
    "weight_est_chain = get_en_weight_est()\n",
    "\n",
    "\n",
    "tools = [\n",
    "    Tool(\n",
    "        name=\"Weight estimator\",\n",
    "        func=weight_est_chain.run,\n",
    "        description=\"Useful for estimating the weight of each item by passing all ingredients at once as input.\",\n",
    "    ),\n",
    "    Tool(\n",
    "        name=\"CO2 emission estimator\",\n",
    "        func=sql_chain.run,\n",
    "        description=\"Useful for finding out the CO2 emission of each item by passing all ingredients at once as input.\",\n",
    "    ),\n",
    "    Tool(\n",
    "        name=\"Google search\",\n",
    "        func=search_chain.run,\n",
    "        description=\"Useful for finding out the kg CO2e / kg if the ingredient is not in the database. Should only use if the ingredient weights more than 100 g.\",\n",
    "    ),\n",
    "    Tool(\n",
    "        name=\"Math calculator\",\n",
    "        func=math_chain.run,\n",
    "        description=\"\"\"Useful for calculating the CO2 emission of each ingredients by kg * kg CO2e / kg. You can for example ask: What is 0.1 * 1.26 + 0.2 * 0.5?\"\"\"\n",
    "    )\n",
    "]"
   ]
  },
  {
   "cell_type": "code",
   "execution_count": null,
   "metadata": {},
   "outputs": [],
   "source": [
    "prefix = \"\"\"Act as a CO2 emission calculator that understands danish and english. \n",
    "\n",
    "Given a list of ingredients to a recipe, your job is to estimate the CO2 emission for each ingredient in kg CO2e and the recipe in total. \n",
    "It is important that you include the intermediate calculations for each ingredients and the total CO2 emission of the recipe \n",
    "in the final answer.\n",
    " \n",
    "You have access to the following tools:\"\"\""
   ]
  },
  {
   "cell_type": "code",
   "execution_count": null,
   "metadata": {},
   "outputs": [],
   "source": [
    "prefix = \"\"\"Act as a CO2 emission calculator that understands danish and english. \n",
    "\n",
    "Given a list of ingredients to a recipe, your job is to estimate the CO2 emission for each ingredient in kg CO2e and the recipe in total. \n",
    " \n",
    "You have access to the following tools:\"\"\"\n",
    "\n",
    "suffix = \"\"\"\n",
    "\n",
    "You can use all tools as many times as you want.\n",
    "\n",
    "You solve this task by: \n",
    "1. Estimating the weights of the ingredients in the recipe using the weight estimation tool. This steps also defines what ingredients are neglible.\n",
    "2. Finding the CO2 emission of each ingredient in kg CO2e per kg using the CO2 emission estimator tool. \n",
    "   Remember querying all ingredients. \n",
    "3. If necessary, use Google Search to get the kg CO2e per kg of a ingredient if the ingredient is not found in step 2 \n",
    "   and not is neglible. You should search for one ingredient at a time.\n",
    "4. Calculate the CO2 emission in kg per ingredient and sum them to get the total CO2 emission of the recipe using the math calculator tool.\n",
    "5. Provide the answer where you show the CO2 calculation for each ingredient and the total CO2 emission of the recipe. \n",
    "\n",
    "Small amounts of ingredients like salt, sugar etc. that weight less than 0.01 kg can be ignored.\n",
    "\n",
    "You must provide the Final Answer in the following format: \n",
    "\n",
    "Total CO2 emission: Z Total kg CO2e\n",
    "Calculation method per ingredient: X kg CO2e / kg * Y kg = Z kg CO2e\n",
    "ingredient 1: X1 * Y1 = Z1 OR neglible if ingredient is neglible in step 1\n",
    "ingredient 2: X2 * Y2 = Z2 OR neglible if ingredient is neglible in step 1\n",
    "etc. \n",
    "\n",
    "Here is an example: \n",
    "Total CO2 emission: 0.267 Total kg CO2e\n",
    "Calculation method per ingredient: X kg CO2e / kg * Y kg = Z kg CO2e\n",
    "Red lentils: 1.78 * 0.15 = 0.267 \n",
    "Salt: neglible\n",
    "\n",
    "In the Question section, the ingredients are provided. \n",
    "\n",
    "Begin! \n",
    "\n",
    "Question: {input}\n",
    "{agent_scratchpad}\"\"\""
   ]
  },
  {
   "cell_type": "code",
   "execution_count": null,
   "metadata": {},
   "outputs": [],
   "source": [
    "prefix = \"\"\"Act as a CO2 emission calculator that understands danish and english. \n",
    "\n",
    "Given a list of ingredients to a recipe, your job is to estimate the CO2 emission for each ingredient in kg CO2e and the recipe in total. \n",
    " \n",
    "You have access to the following tools:\"\"\"\n",
    "\n",
    "suffix = \"\"\"\n",
    "\n",
    "You can use all tools as many times as you want.\n",
    "\n",
    "You solve this task by: \n",
    "1. Estimating the weights of the ingredients in the recipe using the weight estimation tool. This steps also defines what ingredients are neglible.\n",
    "2. Finding the CO2 emission of each ingredient in kg CO2e per kg using the CO2 emission estimator tool. \n",
    "   Remember querying all ingredients. \n",
    "3. If necessary, use Google Search to get the kg CO2e per kg of a ingredient if the ingredient is not found in step 2 \n",
    "   and not is neglible. You should search for one ingredient at a time.\n",
    "4. Calculate the CO2 emission in kg per ingredient and sum them to get the total CO2 emission of the recipe using the math calculator tool.\n",
    "5. Provide the answer where you show the CO2 calculation for each ingredient and the total CO2 emission of the recipe. \n",
    "\n",
    "Small amounts of ingredients like salt, sugar etc. that weight less than 0.01 kg can be ignored.\n",
    "\n",
    "You must provide the Final Answer in the following format: \n",
    "\n",
    "Total CO2 emission: Z Total kg CO2e\n",
    "Calculation method per ingredient: X kg CO2e / kg * Y kg = Z kg CO2e\n",
    "ingredient 1: X1 * Y1 = Z1 OR neglible if ingredient is neglible in step 1\n",
    "ingredient 2: X2 * Y2 = Z2 OR neglible if ingredient is neglible in step 1\n",
    "etc. \n",
    "\n",
    "In the Question section, the ingredients are provided. \n",
    "\n",
    "Begin! \n",
    "\n",
    "Question: {input}\n",
    "{agent_scratchpad}\"\"\"\n",
    "\n",
    "prompt = ZeroShotAgent.create_prompt(\n",
    "    tools, \n",
    "    prefix=prefix, \n",
    "    suffix=suffix, \n",
    "    input_variables=[\"input\", \"agent_scratchpad\"]\n",
    ")"
   ]
  },
  {
   "cell_type": "code",
   "execution_count": null,
   "metadata": {},
   "outputs": [],
   "source": [
    "from langchain.chat_models import ChatOpenAI\n",
    "\n",
    "llm_chain = LLMChain(\n",
    "    # llm=OpenAI(temperature=0),\n",
    "    llm=ChatOpenAI(temperature=0),\n",
    "    prompt=prompt,\n",
    ")"
   ]
  },
  {
   "cell_type": "code",
   "execution_count": null,
   "metadata": {},
   "outputs": [],
   "source": [
    "tool_names = [tool.name for tool in tools]\n",
    "agent = ZeroShotAgent(llm_chain=llm_chain, allowed_tools=tool_names)\n",
    "\n",
    "agent_executor = AgentExecutor.from_agent_and_tools(agent=agent, tools=tools, verbose=True)"
   ]
  },
  {
   "cell_type": "code",
   "execution_count": null,
   "metadata": {},
   "outputs": [],
   "source": [
    "from langchain.callbacks import get_openai_callback\n",
    "\n",
    "with get_openai_callback() as cb:\n",
    "    answer = agent_executor.run(\n",
    "        \"\"\"\n",
    "        150 g red lentils\n",
    "        1 large onion, 1 pepper\n",
    "        2 cubes of vegetable bouillon\n",
    "        3 cloves garlic, pressed\n",
    "        1 can of chopped tomatoes,\n",
    "        1 tin of tomato concentrate (140 g),\n",
    "        1 can of coconut milk (400 ml),\n",
    "        1 tbsp. lemon juice,\n",
    "        1 tsp. sugar,\n",
    "        ½ teaspoon chili powder,\n",
    "        ½ teaspoon ground cumin,\n",
    "        Possibly. 1/4 tsp. smoked paprika,\n",
    "        A large handful of fresh basil, chopped\n",
    "        (or 2 tsp dried basil)\n",
    "        \"\"\"\n",
    "    )\n",
    "    \n",
    "    print(\"Total Tokens:\", cb.total_tokens)\n",
    "    print(\"Total prompt tokens:\", cb.prompt_tokens)\n",
    "    \n",
    "    "
   ]
  },
  {
   "cell_type": "code",
   "execution_count": null,
   "metadata": {},
   "outputs": [],
   "source": [
    "print(answer)"
   ]
  },
  {
   "attachments": {},
   "cell_type": "markdown",
   "metadata": {},
   "source": [
    "## Test in conjunction with URL ingredient extractor"
   ]
  },
  {
   "cell_type": "code",
   "execution_count": null,
   "metadata": {},
   "outputs": [],
   "source": [
    "from chains.recipe_extractor import get_recipe_extractor_chain\n",
    "from utils import get_url_text\n",
    "\n",
    "recipe_extractor_chain = get_recipe_extractor_chain(verbose=True)"
   ]
  },
  {
   "cell_type": "code",
   "execution_count": null,
   "metadata": {},
   "outputs": [],
   "source": [
    "# url = \"https://www.valdemarsro.dk/blinis-med-stenbiderrogn/\"\n",
    "url = \"https://www.foodfanatic.dk/tacos-med-lynchili-og-salsa\"\n",
    "\n",
    "text = get_url_text(url)\n",
    "ingredients = recipe_extractor_chain.run(text)"
   ]
  },
  {
   "cell_type": "code",
   "execution_count": null,
   "metadata": {},
   "outputs": [],
   "source": [
    "agent_executor.run(ingredients)"
   ]
  },
  {
   "cell_type": "code",
   "execution_count": null,
   "metadata": {},
   "outputs": [],
   "source": []
  }
 ],
 "metadata": {
  "kernelspec": {
   "display_name": "venv",
   "language": "python",
   "name": "python3"
  },
  "language_info": {
   "codemirror_mode": {
    "name": "ipython",
    "version": 3
   },
   "file_extension": ".py",
   "mimetype": "text/x-python",
   "name": "python",
   "nbconvert_exporter": "python",
   "pygments_lexer": "ipython3",
   "version": "3.10.6"
  },
  "orig_nbformat": 4
 },
 "nbformat": 4,
 "nbformat_minor": 2
}
