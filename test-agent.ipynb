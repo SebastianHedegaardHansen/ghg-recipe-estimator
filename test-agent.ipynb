{
 "cells": [
  {
   "cell_type": "code",
   "execution_count": 1,
   "metadata": {},
   "outputs": [],
   "source": [
    "from agent import get_en_co2_estimator_agent"
   ]
  },
  {
   "cell_type": "code",
   "execution_count": 2,
   "metadata": {},
   "outputs": [],
   "source": [
    "language = \"en\"\n",
    "agent_executor = get_en_co2_estimator_agent(language=language, verbose=False)"
   ]
  },
  {
   "cell_type": "code",
   "execution_count": 3,
   "metadata": {},
   "outputs": [
    {
     "name": "stdout",
     "output_type": "stream",
     "text": [
      "\n",
      "\n",
      "\u001b[1m> Entering new AgentExecutor chain...\u001b[0m\n",
      "\u001b[32;1m\u001b[1;3mThought: I need to estimate the weight of each ingredient using the weight estimator tool.\n",
      "Action: Weight estimator\n",
      "Action Input: \n",
      "        150 g red lentils\n",
      "        1 large onion, 1 pepper\n",
      "        2 cubes of vegetable bouillon\n",
      "        3 cloves garlic, pressed\n",
      "        1 can of chopped tomatoes,\n",
      "        1 tin of tomato concentrate (140 g),\n",
      "        1 can of coconut milk (400 ml),\n",
      "        1 tbsp. lemon juice,\n",
      "        1 tsp. sugar,\n",
      "        ½ teaspoon chili powder,\n",
      "        ½ teaspoon ground cumin,\n",
      "        Possibly. 1/4 tsp. smoked paprika,\n",
      "        A large handful of fresh basil, chopped\n",
      "        (or 2 tsp dried basil)\u001b[0m\n",
      "Observation: \u001b[36;1m\u001b[1;3mIngredients: \"150 g red lentils, 1 large onion, 1 pepper, 2 cubes of vegetable bouillon, 3 cloves garlic, pressed, 1 can of chopped tomatoes, 1 tin of tomato concentrate (140 g), 1 can of coconut milk (400 ml), 1 tbsp. lemon juice, 1 tsp. sugar, ½ teaspoon chili powder, ½ teaspoon ground cumin, Possibly. 1/4 tsp. smoked paprika, A large handful of fresh basil, chopped (or 2 tsp dried basil)\"\n",
      "Answer: \"150 g red lentils: 0.15 kg, 1 large onion: 0.285 kg, 1 pepper: 0.15 kg, 2 cubes of vegetable bouillon: 0.008 kg, 3 cloves garlic: negligible, 1 can of chopped tomatoes: 0.4 kg, 1 tin of tomato concentrate (140 g): 0.14 kg, 1 can of coconut milk (400 ml): 0.4 kg, 1 tbsp. lemon juice: 0.015 kg, 1 tsp. sugar: negligible, ½ teaspoon chili powder: negligible, ½ teaspoon ground cumin: negligible, Possibly. 1/4 tsp. smoked paprika: negligible, A large handful of fresh basil, chopped (or 2 tsp dried basil): negligible\"\u001b[0m\n",
      "Thought:\u001b[32;1m\u001b[1;3mNow I need to find the CO2 emission of each ingredient using the CO2 emission estimator tool or Google search if not found.\n",
      "Action: CO2 emission estimator\n",
      "Action Input: \n",
      "        150 g red lentils: 0.82 kg\n",
      "        1 large onion: 0.42 kg\n",
      "        1 pepper: 0.4 kg\n",
      "        2 cubes of vegetable bouillon: 0.6 kg\n",
      "        3 cloves garlic: negligible\n",
      "        1 can of chopped tomatoes: 0.82 kg\n",
      "        1 tin of tomato concentrate (140 g): 2.5 kg\n",
      "        1 can of coconut milk (400 ml): 1.1 kg\n",
      "        1 tbsp. lemon juice: 1.26 kg\n",
      "        1 tsp. sugar: negligible\n",
      "        ½ teaspoon chili powder: negligible\n",
      "        ½ teaspoon ground cumin: negligible\n",
      "        Possibly. 1/4 tsp. smoked paprika: negligible\n",
      "        A large handful of fresh basil, chopped (or 2 tsp dried basil): negligible\u001b[0m\n",
      "Observation: \u001b[33;1m\u001b[1;3mRed lentils: 1.78 kg CO2e / kg\n",
      "Onion: 0.9 kg CO2e / kg (closest was raw onion)\n",
      "Pepper: 1.02 kg CO2e / kg (closest was sweet red pepper)\n",
      "Vegetable bouillon: 0.38 kg CO2e / kg (closest was chicken bouillon)\n",
      "Garlic: 1.33 kg CO2e / kg (closest was raw garlic)\n",
      "Chopped tomatoes: 1.26 kg CO2e / kg (closest was canned peeled tomato)\n",
      "Tomato concentrate (140 g): 2.48 kg CO2e / kg (closest was tomato paste)\n",
      "Coconut milk: 3.5 kg CO2e / kg\n",
      "Lemon juice: 0.94 kg CO2e / kg (Closest was Lemon, raw)\n",
      "Chili powder: ? (Not found in database)\n",
      "Ground cumin: ? (Not found in database)\n",
      "Smoked paprika: ? (Not found in database)\n",
      "Basil: 0.3 kg CO2e / kg (closest was fresh basil)\u001b[0m\n",
      "Thought:\u001b[32;1m\u001b[1;3mI need to use Google search to find the CO2 emission of chili powder, ground cumin, and smoked paprika.\n",
      "Action: Google search\n",
      "Action Input: \"CO2 emission of chili powder\", \"CO2 emission of ground cumin\", \"CO2 emission of smoked paprika\"\u001b[0m\n",
      "Observation: \u001b[38;5;200m\u001b[1;3mAncho chillies, smoked paprika, pepper, coriander and cumin give this spice blend a nice kick, while numerous herbs round it off harmoniously. Reduce your carbon footprint from food! My Emissions' daily food carbon footprint calculator allows you to estimate the emissions of your diet. We avoid CO2 emissions wherever we can! Our remaining carbon footprint is compensated through eco-social projects. Learn more. Need any help with your order? We ... substantial reduction of CO2 emission intensity ... 100 g chili tofu (or natural ... Put 50ml of oil, the garlic, the chickpeas, the paprika powder,. 1 x 5ml spoon chilli powder, hot or mild, to your taste. ½ x 5ml spoon smoked paprika. 2 x 5ml spoon ground cumin ... Average daily CO2 emissions. Apr 11, 2023 ... Around 3 to 5 percent of the CO2 emissions for Germany could be saved. ... chili powder 1/2 teaspoon ground cumin 1/2 teaspoon onion powder ... meat or vegetables raised locally decreases the meal's carbon footprint ... Add cumin, turmeric, coriander, smoked paprika, and some salt, then mix until. Jul 27, 2022 ... The key to a low carbon footprint diet is minimizing the meat. ... is 28 times more warming than CO2, and half of beef emissions are methane ... 2 x 5ml spoons smoked paprika. 1 x 5ml spoon ground cumin. 1 x 5ml spoon ground coriander ... Average daily CO2 emissions per person (from food). Mar 5, 2021 ... Along with focusing on reducing carbon emissions, Harrelson emphasizes the importance of increasing the amount of carbon in the soil.\u001b[0m\n",
      "Thought:\u001b[32;1m\u001b[1;3mNow I have all the necessary information to calculate the CO2 emission of the recipe using the math calculator tool.\n",
      "Action: Math calculator\n",
      "Action Input: \n",
      "        Red lentils: 1.78 kg CO2e / kg * 0.15 kg = 0.267 kg CO2e\n",
      "        Onion: 0.9 kg CO2e / kg * 0.285 kg = 0.2565 kg CO2e\n",
      "        Pepper: 1.02 kg CO2e / kg * 0.15 kg = 0.153 kg CO2e\n",
      "        Vegetable bouillon: 0.38 kg CO2e / kg * 0.008 kg = 0.00304 kg CO2e\n",
      "        Garlic: negligible\n",
      "        Chopped tomatoes: 1.26 kg CO2e / kg * 0.4 kg = 0.504 kg CO2e\n",
      "        Tomato concentrate (140 g): 2.48 kg CO2e / kg * 0.14 kg = 0.3472 kg CO2e\n",
      "        Coconut milk: 3.5 kg CO2e / kg * 0.4 kg = 1.4 kg CO2e\n",
      "        Lemon juice: 0.94 kg CO2e / kg * 0.015 kg = 0.0141 kg CO2e\n",
      "        Sugar: negligible\n",
      "        Chili powder: negligible\n",
      "        Ground cumin: negligible\n",
      "        Smoked paprika: negligible\n",
      "        Basil: negligible\u001b[0m\n",
      "Observation: \u001b[31;1m\u001b[1;3mAnswer: 2.94484\u001b[0m\n",
      "Thought:\u001b[32;1m\u001b[1;3mI need to format the final answer.\n",
      "Final Answer: \n",
      "Total CO2 emission: 2.94 Total kg CO2e\n",
      "Calculation method per ingredient: \n",
      "Red lentils: 1.78 kg CO2e / kg * 0.15 kg = 0.267 kg CO2e\n",
      "Onion: 0.9 kg CO2e / kg * 0.285 kg = 0.2565 kg CO2e\n",
      "Pepper: 1.02 kg CO2e / kg * 0.15 kg = 0.153 kg CO2e\n",
      "Vegetable bouillon: 0.38 kg CO2e / kg * 0.008 kg = 0.00304 kg CO2e\n",
      "Garlic: negligible\n",
      "Chopped tomatoes: 1.26 kg CO2e / kg * 0.4 kg = 0.504 kg CO2e\n",
      "Tomato concentrate (140 g): 2.48 kg CO2e / kg * 0.14 kg = 0.3472 kg CO2e\n",
      "Coconut milk: 3.5 kg CO2e / kg * 0.4 kg = 1.4 kg CO2e\n",
      "Lemon juice: 0.94 kg CO2e / kg * 0.015 kg = 0.0141 kg CO2e\n",
      "Sugar: negligible\n",
      "Chili powder: negligible\n",
      "Ground cumin: negligible\n",
      "Smoked paprika: negligible\n",
      "Basil: negligible\u001b[0m\n",
      "\n",
      "\u001b[1m> Finished chain.\u001b[0m\n",
      "Total Tokens: 13586\n",
      "Total prompt tokens: 11784\n"
     ]
    }
   ],
   "source": [
    "from langchain.callbacks import get_openai_callback\n",
    "\n",
    "with get_openai_callback() as cb:\n",
    "    answer = agent_executor.run(\n",
    "        \"\"\"\n",
    "        150 g red lentils\n",
    "        1 large onion, 1 pepper\n",
    "        2 cubes of vegetable bouillon\n",
    "        3 cloves garlic, pressed\n",
    "        1 can of chopped tomatoes,\n",
    "        1 tin of tomato concentrate (140 g),\n",
    "        1 can of coconut milk (400 ml),\n",
    "        1 tbsp. lemon juice,\n",
    "        1 tsp. sugar,\n",
    "        ½ teaspoon chili powder,\n",
    "        ½ teaspoon ground cumin,\n",
    "        Possibly. 1/4 tsp. smoked paprika,\n",
    "        A large handful of fresh basil, chopped\n",
    "        (or 2 tsp dried basil)\n",
    "        \"\"\"\n",
    "    )\n",
    "    \n",
    "    print(\"Total Tokens:\", cb.total_tokens)\n",
    "    print(\"Total prompt tokens:\", cb.prompt_tokens)\n",
    "    \n",
    "    "
   ]
  },
  {
   "cell_type": "code",
   "execution_count": 5,
   "metadata": {},
   "outputs": [
    {
     "name": "stdout",
     "output_type": "stream",
     "text": [
      "Total CO2 emission: 2.94 Total kg CO2e\n",
      "Calculation method per ingredient: \n",
      "Red lentils: 1.78 kg CO2e / kg * 0.15 kg = 0.267 kg CO2e\n",
      "Onion: 0.9 kg CO2e / kg * 0.285 kg = 0.2565 kg CO2e\n",
      "Pepper: 1.02 kg CO2e / kg * 0.15 kg = 0.153 kg CO2e\n",
      "Vegetable bouillon: 0.38 kg CO2e / kg * 0.008 kg = 0.00304 kg CO2e\n",
      "Garlic: negligible\n",
      "Chopped tomatoes: 1.26 kg CO2e / kg * 0.4 kg = 0.504 kg CO2e\n",
      "Tomato concentrate (140 g): 2.48 kg CO2e / kg * 0.14 kg = 0.3472 kg CO2e\n",
      "Coconut milk: 3.5 kg CO2e / kg * 0.4 kg = 1.4 kg CO2e\n",
      "Lemon juice: 0.94 kg CO2e / kg * 0.015 kg = 0.0141 kg CO2e\n",
      "Sugar: negligible\n",
      "Chili powder: negligible\n",
      "Ground cumin: negligible\n",
      "Smoked paprika: negligible\n",
      "Basil: negligible\n"
     ]
    }
   ],
   "source": [
    "print(answer)"
   ]
  },
  {
   "attachments": {},
   "cell_type": "markdown",
   "metadata": {},
   "source": [
    "## Test in conjunction with URL ingredient extractor"
   ]
  },
  {
   "cell_type": "code",
   "execution_count": null,
   "metadata": {},
   "outputs": [],
   "source": [
    "from chains.recipe_extractor import get_recipe_extractor_chain\n",
    "from utils import get_url_text\n",
    "\n",
    "recipe_extractor_chain = get_recipe_extractor_chain(verbose=True)"
   ]
  },
  {
   "cell_type": "code",
   "execution_count": null,
   "metadata": {},
   "outputs": [],
   "source": [
    "# url = \"https://www.valdemarsro.dk/blinis-med-stenbiderrogn/\"\n",
    "url = \"https://www.foodfanatic.dk/tacos-med-lynchili-og-salsa\"\n",
    "\n",
    "text = get_url_text(url)\n",
    "ingredients = recipe_extractor_chain.run(text)"
   ]
  },
  {
   "cell_type": "code",
   "execution_count": null,
   "metadata": {},
   "outputs": [],
   "source": [
    "agent_executor.run(ingredients)"
   ]
  },
  {
   "cell_type": "code",
   "execution_count": null,
   "metadata": {},
   "outputs": [],
   "source": []
  }
 ],
 "metadata": {
  "kernelspec": {
   "display_name": "venv",
   "language": "python",
   "name": "python3"
  },
  "language_info": {
   "codemirror_mode": {
    "name": "ipython",
    "version": 3
   },
   "file_extension": ".py",
   "mimetype": "text/x-python",
   "name": "python",
   "nbconvert_exporter": "python",
   "pygments_lexer": "ipython3",
   "version": "3.10.6"
  },
  "orig_nbformat": 4
 },
 "nbformat": 4,
 "nbformat_minor": 2
}
